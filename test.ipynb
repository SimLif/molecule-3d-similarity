{
 "cells": [
  {
   "cell_type": "markdown",
   "metadata": {},
   "source": [
    "# 0 环境配置"
   ]
  },
  {
   "cell_type": "code",
   "execution_count": 1,
   "metadata": {},
   "outputs": [],
   "source": [
    "import os\n",
    "import sys\n",
    "import json\n",
    "import pickle\n",
    "import timeit\n",
    "import random\n",
    "import argparse\n",
    "import cairosvg\n",
    "import statistics\n",
    "from statistics import mean, median\n",
    "from importlib import reload\n",
    "from joblib import Parallel, delayed\n",
    "from collections import Counter\n",
    "from functools import reduce"
   ]
  },
  {
   "cell_type": "code",
   "execution_count": 2,
   "metadata": {},
   "outputs": [
    {
     "name": "stdout",
     "output_type": "stream",
     "text": [
      "/users10/hqguo/subject/2-learn/2-1-egnn/molecule-3d-similarity\n"
     ]
    }
   ],
   "source": [
    "base_path = os.path.abspath('')\n",
    "print(base_path)\n",
    "sys.path.append(base_path)"
   ]
  },
  {
   "cell_type": "code",
   "execution_count": 3,
   "metadata": {},
   "outputs": [
    {
     "data": {
      "application/vnd.jupyter.widget-view+json": {
       "model_id": "5a664f14102d4841b7aee08c3aadce5e",
       "version_major": 2,
       "version_minor": 0
      },
      "text/plain": []
     },
     "metadata": {},
     "output_type": "display_data"
    }
   ],
   "source": [
    "import oddt\n",
    "import rdkit\n",
    "import numpy as np\n",
    "import pandas as pd\n",
    "import seaborn as sns\n",
    "import nglview as nv\n",
    "import matplotlib.pyplot as plt\n",
    "from openbabel import openbabel\n",
    "from icecream import ic\n",
    "from scipy import stats\n",
    "from sklearn import metrics\n",
    "from sklearn.manifold import TSNE\n",
    "from sklearn.decomposition import PCA\n",
    "from rdkit import Chem\n",
    "from rdkit import RDLogger   \n",
    "from rdkit.Chem import AllChem, Draw, rdMolAlign\n",
    "from rdkit.Chem.MolStandardize import rdMolStandardize\n",
    "from rdkit.Chem.Draw import DrawingOptions\n",
    "from espsim.helpers import mlCharges\n",
    "from pandarallel import pandarallel\n",
    "from tqdm import tqdm"
   ]
  },
  {
   "cell_type": "code",
   "execution_count": 4,
   "metadata": {},
   "outputs": [],
   "source": [
    "import utils.functions as fn\n",
    "import utils.alignment as al\n",
    "import utils.similarity as sm\n",
    "import utils.metrics as mt"
   ]
  },
  {
   "cell_type": "code",
   "execution_count": 5,
   "metadata": {},
   "outputs": [],
   "source": [
    "%matplotlib inline\n",
    "plt.style.use('ggplot')\n",
    "# plt.rcParams[\"font.sans-serif\"]=[\"SimHei\"] #设置字体\n",
    "plt.rcParams[\"axes.unicode_minus\"]=False #该语句解决图像中的“-”负号的乱码问题\n",
    "\n",
    "sns.set_theme()\n",
    "\n",
    "RDLogger.EnableLog('rdApp.*') \n",
    "\n",
    "random.seed = 2022"
   ]
  },
  {
   "cell_type": "code",
   "execution_count": null,
   "metadata": {},
   "outputs": [],
   "source": [
    "reload(fn)\n",
    "reload(al)\n",
    "reload(sm)\n",
    "reload(mt)\n"
   ]
  },
  {
   "cell_type": "markdown",
   "metadata": {},
   "source": [
    "# 1 测试"
   ]
  },
  {
   "cell_type": "markdown",
   "metadata": {},
   "source": [
    "## 1.1 Mol2MolSupplier"
   ]
  },
  {
   "cell_type": "code",
   "execution_count": null,
   "metadata": {},
   "outputs": [],
   "source": [
    "# 1 Mol2MolSupplier\n",
    "database=fn.Mol2MolSupplier(os.path.join(base_path, 'demo-data/pde5a/actives_final.mol2'), sanitize=True)\n",
    "len(database)"
   ]
  },
  {
   "cell_type": "markdown",
   "metadata": {},
   "source": [
    "## 1.2 DUD-E Correlation"
   ]
  },
  {
   "cell_type": "code",
   "execution_count": null,
   "metadata": {},
   "outputs": [],
   "source": [
    "# 2 auc_dude\n",
    "auc_dude = 'ROCSComboscore 0.598 ± 0.152 0.681 ± 0.166 0.674 ± 0.115 0.727 ± 0.128 ROCSColorscore 0.620 ± 0.139 0.712 ± 0.159 0.677 ± 0.117 0.752 ± 0.136 ROCSShapeTanimoto 0.547 ± 0.138 0.611 ± 0.163 0.618 ± 0.105 0.667 ± 0.127 Phase Shape_Mmod 0.677 ± 0.143 0.686 ± 0.145 0.772 ± 0.105 0.769 ± 0.108 Phase Shape_Ele 0.674 ± 0.153 0.688 ± 0.158 0.753 ± 0.105 0.750 ± 0.111 Phase Shape_Pharm 0.692 ± 0.160 0.694 ± 0.168 0.761 ± 0.145 0.767 ± 0.143 Shape-it 0.541 ± 0.133 0.590 ± 0.141 0.612 ± 0.110 0.639 ± 0.115 Align-it 0.659 ± 0.137 0.680 ± 0.157 0.729 ± 0.132 0.746 ± 0.139 ShaEPbest 0.658 ± 0.122 0.660 ± 0.139 0.709 ± 0.099 0.699 ± 0.120 ShaEPshape 0.625 ± 0.139 0.632 ± 0.143 0.681 ± 0.105 0.676 ± 0.116 ShaEPESP 0.606 ± 0.109 0.591 ± 0.117 0.627 ± 0.105 0.585 ± 0.125 SHAFTS 0.733 ± 0.144 0.731 ± 0.157 0.792 ± 0.129 0.782 ± 0.135 WEGA 0.645 ± 0.143 0.659 ± 0.154 0.716 ± 0.107 0.716 ± 0.125 LIGSIFT 0.718 ± 0.133 0.755 ± 0.143 0.758 ± 0.117 0.784 ± 0.120 LS-align 0.699 ± 0.126 0.759 ± 0.119 0.773 ± 0.098 0.786 ± 0.096'\n",
    "auc_dude_list = auc_dude.split(' ')\n",
    "while 'Phase' in auc_dude_list:\n",
    "    auc_dude_list.remove('Phase')\n",
    "\n",
    "auc_dude_dict = []\n",
    "for i in range(len(auc_dude_list)//13):\n",
    "    auc_dude_dict.append([auc_dude_list[i*13]]+[float(ele) for ele in auc_dude_list[i*13+1:i*13+13:3]])\n",
    "\n",
    "df = pd.DataFrame(auc_dude_dict)\n",
    "df = df.sort_values(by=[1])\n",
    "df"
   ]
  },
  {
   "cell_type": "code",
   "execution_count": null,
   "metadata": {},
   "outputs": [],
   "source": [
    "for i in [2, 3, 4]:\n",
    "    pe, pv = stats.pearsonr(df[1].to_numpy(),df[i].to_numpy())\n",
    "    ic(f'pe: {pe:>10}, pv: {pv:>10}')"
   ]
  },
  {
   "cell_type": "code",
   "execution_count": null,
   "metadata": {},
   "outputs": [],
   "source": [
    "pccs = np.corrcoef([df[i].to_numpy() for i in [1,2,3,4]])\n",
    "ic(pccs)"
   ]
  },
  {
   "cell_type": "code",
   "execution_count": null,
   "metadata": {},
   "outputs": [],
   "source": [
    "sns.heatmap(pccs)"
   ]
  },
  {
   "cell_type": "code",
   "execution_count": null,
   "metadata": {},
   "outputs": [],
   "source": [
    "plt.figure(figsize=(5, 5), dpi=200)\n",
    "for i in [1,2,3,4]:\n",
    "    plt.scatter(list(range(df.shape[0])), df[i].tolist())"
   ]
  },
  {
   "cell_type": "markdown",
   "metadata": {},
   "source": [
    "## 1.3 去重"
   ]
  },
  {
   "cell_type": "code",
   "execution_count": null,
   "metadata": {},
   "outputs": [],
   "source": [
    "# table = Chem.GetPeriodicTable()\n",
    "\n",
    "# # for ele in [14, 16, 19]:\n",
    "# #     ligand.GetAtomWithIdx(ele).SetNumExplicitHs(1)\n",
    "# ligand = Chem.RemoveAllHs(ligand, sanitize=True)\n",
    "# ligand.RemoveAllConformers()\n",
    "# for atom in ligand.GetAtoms():\n",
    "#     if atom.GetTotalValence() != table.GetDefaultValence(atom.GetAtomicNum()):\n",
    "#         atom.SetFormalCharge(atom.GetTotalValence()-table.GetDefaultValence(atom.GetAtomMapNum()))\n",
    "# Chem.SanitizeMol(ligand)\n",
    "# ligand"
   ]
  },
  {
   "cell_type": "code",
   "execution_count": null,
   "metadata": {},
   "outputs": [],
   "source": [
    "m1 = Chem.MolFromMol2File(os.path.join(base_path, f'demo-data/pde5a/crystal_ligand.mol2'))\n",
    "m2 = Chem.MolFromSmiles('CCCc1nn(c2c1nc([nH]c2=O)c1cc(ccc1OCC)S(=O)(=O)n1ccn(cc1)C)C')"
   ]
  },
  {
   "cell_type": "code",
   "execution_count": null,
   "metadata": {},
   "outputs": [],
   "source": [
    "m1.RemoveAllConformers()\n",
    "m1"
   ]
  },
  {
   "cell_type": "code",
   "execution_count": null,
   "metadata": {},
   "outputs": [],
   "source": [
    "m2"
   ]
  },
  {
   "cell_type": "code",
   "execution_count": null,
   "metadata": {},
   "outputs": [],
   "source": [
    "ic(Chem.MolToInchiKey(m1))\n",
    "ic(Chem.MolToInchiKey(m2))\n",
    "ic(Chem.MolToSmiles(m1))\n",
    "ic(Chem.MolToSmiles(m2))"
   ]
  },
  {
   "cell_type": "code",
   "execution_count": null,
   "metadata": {},
   "outputs": [],
   "source": []
  },
  {
   "cell_type": "markdown",
   "metadata": {},
   "source": [
    "## 1.4 绘图"
   ]
  },
  {
   "cell_type": "code",
   "execution_count": null,
   "metadata": {},
   "outputs": [],
   "source": [
    "# parser = argparse.ArgumentParser( 'smiles to png inmage' )\n",
    "# parser.add_argument( 'smiles' )\n",
    "# parser.add_argument( '--filename', default=\"mol.\" )\n",
    " \n",
    "# parser.add_argument( 'smiles' )\n",
    " \n",
    "# param = parser.parse_args()\n",
    "# smiles = param.smiles\n",
    "# fname = param.filename\n"
   ]
  },
  {
   "cell_type": "code",
   "execution_count": null,
   "metadata": {},
   "outputs": [],
   "source": [
    "def draw_mol(mol, save_dir, fname):\n",
    "    DrawingOptions.atomLabelFontSize = 55\n",
    "    DrawingOptions.dotsPerAngstrom = 100\n",
    "    DrawingOptions.bondLineWidth = 3.0\n",
    "\n",
    "    Draw.MolToFile(mol, os.path.join(save_dir, fname+\".png\"))\n",
    "    Draw.MolToFile(mol, os.path.join(save_dir, fname+'.svg'))\n",
    "    cairosvg.svg2png(url=os.path.join(save_dir, fname+'.svg'), write_to= os.path.join(save_dir, \"svg_\"+fname+\".png\"))"
   ]
  },
  {
   "cell_type": "code",
   "execution_count": null,
   "metadata": {},
   "outputs": [],
   "source": [
    "draw_mol(m1, '/home/jovyan/work-home/DUD-E/src/img', 'pde5a_cry_lig')"
   ]
  },
  {
   "cell_type": "markdown",
   "metadata": {},
   "source": [
    "# 2 DUD-E"
   ]
  },
  {
   "cell_type": "code",
   "execution_count": 6,
   "metadata": {},
   "outputs": [],
   "source": [
    "dude_dir = 'dude/all'\n",
    "n_jobs = 8"
   ]
  },
  {
   "cell_type": "code",
   "execution_count": null,
   "metadata": {},
   "outputs": [],
   "source": [
    "target_list = ['pde5a', 'akt1', 'ada', 'andr', 'def', 'gria2', 'egfr', 'gcr', 'igf1r']\n",
    "target_flag = 6\n",
    "target_list[target_flag]"
   ]
  },
  {
   "cell_type": "code",
   "execution_count": null,
   "metadata": {},
   "outputs": [],
   "source": [
    "gz_a_path = os.path.join(base_path, dude_dir, target_list[target_flag], 'actives_final.sdf.gz')\n",
    "gz_d_path = os.path.join(base_path, dude_dir, target_list[target_flag], 'decoys_final.sdf.gz')\n",
    "for gz_path in [gz_a_path, gz_d_path]:\n",
    "    if os.path.exists(gz_path):\n",
    "        os.system(f\"gzip -d {gz_path}\")"
   ]
  },
  {
   "cell_type": "code",
   "execution_count": null,
   "metadata": {},
   "outputs": [],
   "source": [
    "# decoys_path \n",
    "d_path = os.path.join(base_path, dude_dir, target_list[target_flag], 'decoys_final.sdf')\n",
    "# actives_path \n",
    "a_path = os.path.join(base_path, dude_dir, target_list[target_flag], 'actives_final.sdf')\n",
    "# target_rec = os.path.join(base_path, f'demo-data/{target_list[target_flag]}/receptor_FH.pdb')\n",
    "# ligand_path \n",
    "l_path = os.path.join(base_path, dude_dir, target_list[target_flag], 'crystal_ligand.mol2')"
   ]
  },
  {
   "cell_type": "markdown",
   "metadata": {},
   "source": [
    "## 2.0 数据去重"
   ]
  },
  {
   "cell_type": "code",
   "execution_count": null,
   "metadata": {},
   "outputs": [],
   "source": [
    "# act_405 = [mol for mol in act if mol.title=='CHEMBL405920']\n",
    "act_405_path = os.path.join(base_path, dude_dir, 'ada', 'actives_CHE405.mol2')\n",
    "# w = oddt.toolkits.rdk.Outputfile('mol2', act_405_path, overwrite=True)\n",
    "# for m in act_405:\n",
    "#     m.Mol = ''\n",
    "#     w.write(m)\n",
    "# w.close()\n",
    "act_405 = fn.Mol2MolSupplier(act_405_path, sanitize=True)\n",
    "Draw.MolsToGridImage(act_405, molsPerRow=8, subImgSize=(150,150), legends=[mol.GetProp('_Name') for mol in act_405],maxMols=100)"
   ]
  },
  {
   "cell_type": "code",
   "execution_count": null,
   "metadata": {},
   "outputs": [],
   "source": [
    "# act = fn.Mol2MolSupplier(a_path.split('.')[0]+'.mol2', sanitize=True)\n",
    "# dec = fn.Mol2MolSupplier(d_path.split('.')[0]+'.mol2', sanitize=True)\n",
    "act = [m for m in Chem.SDMolSupplier(a_path, removeHs=False) if m]\n",
    "dec = [m for m in Chem.SDMolSupplier(d_path, removeHs=False) if m]\n",
    "\n",
    "ic(len(act))\n",
    "ic(len(dec))"
   ]
  },
  {
   "cell_type": "code",
   "execution_count": null,
   "metadata": {},
   "outputs": [],
   "source": [
    "def de_duplicate(m_list):\n",
    "    name_l = []\n",
    "    inck_l = []\n",
    "    de_m_l = []\n",
    "\n",
    "    for m in m_list:\n",
    "        name = m.GetProp('_Name')\n",
    "        inck = Chem.MolToInchiKey(m)\n",
    "        if name in name_l:\n",
    "            # ic('name duplicate')\n",
    "            pass\n",
    "        elif inck in inck_l:\n",
    "            # ic('icnk duplicate')\n",
    "            pass\n",
    "        else:\n",
    "            name_l.append(name)\n",
    "            inck_l.append(inck)\n",
    "            de_m_l.append(m)\n",
    "    \n",
    "    return de_m_l"
   ]
  },
  {
   "cell_type": "code",
   "execution_count": null,
   "metadata": {},
   "outputs": [],
   "source": [
    "act_dd = de_duplicate(act)\n",
    "ic(len(act_dd))\n",
    "with Chem.SDWriter(os.path.join(base_path, dude_dir, target_list[target_flag], 'actives_dd.sdf')) as w:\n",
    "    for m in act_dd:\n",
    "        w.write(m)"
   ]
  },
  {
   "cell_type": "code",
   "execution_count": null,
   "metadata": {},
   "outputs": [],
   "source": [
    "dec_dd = de_duplicate(dec)\n",
    "ic(len(dec_dd))\n",
    "with Chem.SDWriter(os.path.join(base_path, dude_dir, target_list[target_flag], 'decoys_dd.sdf')) as w:\n",
    "    for m in dec_dd:\n",
    "        w.write(m)"
   ]
  },
  {
   "cell_type": "code",
   "execution_count": null,
   "metadata": {},
   "outputs": [],
   "source": [
    "a_path = os.path.join(base_path, dude_dir, target_list[target_flag], 'actives_dd.sdf')\n",
    "d_path = os.path.join(base_path, dude_dir, target_list[target_flag], 'decoys_dd.sdf')"
   ]
  },
  {
   "cell_type": "code",
   "execution_count": null,
   "metadata": {},
   "outputs": [],
   "source": []
  },
  {
   "cell_type": "code",
   "execution_count": null,
   "metadata": {},
   "outputs": [],
   "source": [
    "def sdf2mol2(sdf_path, mol_path):\n",
    "    sdf_l = [mol for mol in list(oddt.toolkit.readfile('sdf', sdf_path)) if mol]\n",
    "    w = oddt.toolkits.rdk.Outputfile('mol2', mol_path, overwrite=True)\n",
    "    for m in sdf_l:\n",
    "        m.Mol = ''\n",
    "        w.write(m)\n",
    "    w.close()"
   ]
  },
  {
   "cell_type": "code",
   "execution_count": null,
   "metadata": {},
   "outputs": [],
   "source": [
    "sdf2mol2(a_path, a_path.split('.')[0]+'.mol2')\n",
    "sdf2mol2(d_path, d_path.split('.')[0]+'.mol2')"
   ]
  },
  {
   "cell_type": "code",
   "execution_count": null,
   "metadata": {},
   "outputs": [],
   "source": [
    "t_l = [mol for mol in list(oddt.toolkit.readfile('mol2',a_path.split('.')[0]+'.mol2')) if mol]\n",
    "len(t_l)"
   ]
  },
  {
   "cell_type": "code",
   "execution_count": null,
   "metadata": {},
   "outputs": [],
   "source": [
    "# m = AllChem.MolFromSmiles('c1ccc(cc1)COC(=O)c1cc2c(c(c1)CCN1C=NC3=C1NC=[NH]C[C@@H]3O)CCCC2')\n",
    "# type(m)"
   ]
  },
  {
   "cell_type": "markdown",
   "metadata": {},
   "source": [
    "## 2.1 数据加载"
   ]
  },
  {
   "cell_type": "code",
   "execution_count": null,
   "metadata": {},
   "outputs": [],
   "source": [
    "a_path = os.path.join(base_path, dude_dir, target_list[target_flag], 'actives_dd.sdf')\n",
    "d_path = os.path.join(base_path, dude_dir, target_list[target_flag], 'decoys_dd.sdf')\n",
    "l_path = os.path.join(base_path, dude_dir, target_list[target_flag], 'crystal_ligand.mol2')\n",
    "ic(a_path)\n",
    "\n",
    "# decoys = fn.Mol2MolSupplier(d_path, sanitize=True)\n",
    "decoys = [m for m in Chem.SDMolSupplier(d_path, removeHs=False) if m]\n",
    "ic(len(decoys))\n",
    "Draw.MolsToGridImage(random.sample(decoys, 7), molsPerRow=7, subImgSize=(150,150), legends=[mol.GetProp('_Name') for mol in decoys[:7]],maxMols=100)\n",
    "\n",
    "actives = [m for m in Chem.SDMolSupplier(a_path, removeHs=False) if m]\n",
    "ic(len(actives))\n",
    "Draw.MolsToGridImage(random.sample(actives, 7), molsPerRow=7, subImgSize=(150,150), legends=[mol.GetProp('_Name') for mol in actives[:7]],maxMols=100)\n",
    "\n",
    "ligand = AllChem.MolFromMol2File(l_path, removeHs=False)\n",
    "ligand = Chem.AddHs(ligand, addCoords=True)\n",
    "ligand"
   ]
  },
  {
   "cell_type": "markdown",
   "metadata": {},
   "source": [
    "## 2.1 RDKIT"
   ]
  },
  {
   "cell_type": "markdown",
   "metadata": {},
   "source": [
    "### 2.1.1 测试分子对齐"
   ]
  },
  {
   "cell_type": "code",
   "execution_count": null,
   "metadata": {},
   "outputs": [],
   "source": [
    "prbs, actives_o3a_score = al.rdkit_o3a(actives[10:20], ligand, n_jobs=32)\n",
    "statistics.mean(actives_o3a_score)"
   ]
  },
  {
   "cell_type": "code",
   "execution_count": null,
   "metadata": {},
   "outputs": [],
   "source": [
    "view = fn.show_ligands([ligand]+prbs)\n",
    "view"
   ]
  },
  {
   "cell_type": "code",
   "execution_count": null,
   "metadata": {},
   "outputs": [],
   "source": [
    "actives_crippeno3a_score = al.rdkit_crippeno3a(actives[:10], ligand)\n",
    "statistics.mean(actives_crippeno3a_score)"
   ]
  },
  {
   "cell_type": "code",
   "execution_count": null,
   "metadata": {},
   "outputs": [],
   "source": [
    "view = fn.show_ligands([ligand]+actives[:10])\n",
    "view"
   ]
  },
  {
   "cell_type": "code",
   "execution_count": null,
   "metadata": {},
   "outputs": [],
   "source": [
    "# rmsd = rdkit_alignmol(actives[:10], ligand)\n",
    "# statistics.mean(rmsd)\n",
    "# # RuntimeError: No sub-structure match found between the probe and query mol"
   ]
  },
  {
   "cell_type": "code",
   "execution_count": null,
   "metadata": {},
   "outputs": [],
   "source": [
    "decoys_o3a_score = al.rdkit_o3a(decoys[:10], ligand)\n",
    "statistics.mean(decoys_o3a_score)"
   ]
  },
  {
   "cell_type": "code",
   "execution_count": null,
   "metadata": {},
   "outputs": [],
   "source": [
    "view = fn.show_ligands([ligand]+decoys[:10])\n",
    "view"
   ]
  },
  {
   "cell_type": "code",
   "execution_count": null,
   "metadata": {},
   "outputs": [],
   "source": [
    "decoys_crippeno3a_score = al.rdkit_crippeno3a(decoys[:10], ligand)\n",
    "statistics.mean(decoys_crippeno3a_score)"
   ]
  },
  {
   "cell_type": "code",
   "execution_count": null,
   "metadata": {},
   "outputs": [],
   "source": [
    "view = fn.show_ligands([ligand]+decoys[:10])\n",
    "view"
   ]
  },
  {
   "cell_type": "code",
   "execution_count": null,
   "metadata": {},
   "outputs": [],
   "source": [
    "prb_crippen = [Chem.rdMolDescriptors._CalcCrippenContribs(mol) for mol in actives[:10]]\n",
    "ref_crippen = Chem.rdMolDescriptors._CalcCrippenContribs(ligand)"
   ]
  },
  {
   "cell_type": "code",
   "execution_count": null,
   "metadata": {},
   "outputs": [],
   "source": [
    "actives_crippeno3a_score = al.rdkit_crippeno3a(actives[:10], ligand, prb_crippen=prb_crippen, ref_crippen=ref_crippen)\n",
    "statistics.mean(actives_crippeno3a_score)"
   ]
  },
  {
   "cell_type": "code",
   "execution_count": null,
   "metadata": {},
   "outputs": [],
   "source": [
    "# prb_mmff = [AllChem.MMFFGetMoleculeProperties(mol) for mol in actives[0:10]]\n",
    "# ref_mmff = AllChem.MMFFGetMoleculeProperties(ligand)\n",
    "# decoys_o3a_score = rdkit_o3a(decoys[:10], ligand, prb_mmff=prb_mmff, ref_mmff=ref_mmff)\n",
    "# statistics.mean(decoys_o3a_score)\n",
    "# # RuntimeError: Invariant Violation\n",
    "# # \tNegative weight specified for a point\n",
    "# # \tViolation occurred on line 57 in file Code/Numerics/Alignment/AlignPoints.cpp\n",
    "# # \tFailed Expression: wData[i] > 0.0\n",
    "# # \tRDKIT: 2022.03.4\n",
    "# # \tBOOST: 1_74"
   ]
  },
  {
   "cell_type": "markdown",
   "metadata": {},
   "source": [
    "### 2.1.2 分子三维结构相似度计算"
   ]
  },
  {
   "cell_type": "code",
   "execution_count": null,
   "metadata": {},
   "outputs": [],
   "source": [
    "# actives_sampled = random.sample(actives, 100)\n",
    "# decoys_sampled = random.sample(decoys, 500)\n",
    "# RDLogger.DisableLog('rdApp.*') \n",
    "RDLogger.EnableLog('rdApp.*')"
   ]
  },
  {
   "cell_type": "code",
   "execution_count": null,
   "metadata": {},
   "outputs": [],
   "source": [
    "# actives_sampled_path = os.path.join(base_path, 'demo-data/pde5a/actives_sample_100.sdf')\n",
    "# decoys_sampled_path = os.path.join(base_path, 'demo-data/pde5a/decoys_sample_500.sdf')\n"
   ]
  },
  {
   "cell_type": "code",
   "execution_count": null,
   "metadata": {},
   "outputs": [],
   "source": [
    "# writer = Chem.SDWriter(actives_sampled_path)\n",
    "# for cid in range(len(actives_sampled)):\n",
    "#     writer.write(actives_sampled[cid])\n",
    "    \n",
    "# writer = Chem.SDWriter(decoys_sampled_path)\n",
    "# for cid in range(len(decoys_sampled)):\n",
    "#     writer.write(decoys_sampled[cid])"
   ]
  },
  {
   "cell_type": "code",
   "execution_count": null,
   "metadata": {},
   "outputs": [],
   "source": [
    "from sklearn.metrics import dcg_score\n",
    "\n",
    "\n",
    "# actives = [m for m in Chem.SDMolSupplier(actives_sampled_path) if m]\n",
    "# decoys = [m for m in Chem.SDMolSupplier(decoys_sampled_path) if m]\n",
    "# ligand = AllChem.MolFromMol2File(l_path)\n",
    "\n",
    "len_a = len(actives)\n",
    "len_d = len(decoys)\n",
    "ic(len_a)\n",
    "ic(len_d)"
   ]
  },
  {
   "cell_type": "code",
   "execution_count": null,
   "metadata": {},
   "outputs": [],
   "source": [
    "a_o_a_time = 0\n",
    "start = timeit.default_timer()\n",
    "actives_o, align_score =al.rdkit_o3a(actives, ligand, n_jobs=n_jobs, verbose=1)\n",
    "end = timeit.default_timer()\n",
    "a_o_a_time = end - start\n",
    "ic(a_o_a_time)\n",
    "a_o_d_time = 0\n",
    "start = timeit.default_timer()\n",
    "decoys_o, align_score =al.rdkit_o3a(decoys, ligand, n_jobs=n_jobs, verbose=1)\n",
    "end = timeit.default_timer()\n",
    "a_o_d_time = end - start\n",
    "ic(a_o_d_time)\n",
    "\n",
    "a_c_a_time = 0\n",
    "start = timeit.default_timer()\n",
    "actives_c, align_score =al.rdkit_crippeno3a(actives, ligand, n_jobs=n_jobs, verbose=1)\n",
    "end = timeit.default_timer()\n",
    "a_c_a_time = end - start\n",
    "ic(a_c_a_time)\n",
    "a_c_d_time = 0\n",
    "start = timeit.default_timer()\n",
    "decoys_c, align_score =al.rdkit_crippeno3a(decoys, ligand, n_jobs=n_jobs, verbose=1)\n",
    "end = timeit.default_timer()\n",
    "a_c_d_time = end - start\n",
    "ic(a_c_d_time)"
   ]
  },
  {
   "cell_type": "code",
   "execution_count": null,
   "metadata": {},
   "outputs": [],
   "source": [
    "# writer = Chem.SDWriter(actives_sampled_path)\n",
    "# for cid in range(len(actives_sampled)):\n",
    "#     actives_sampled[cid].SetProp('_Name', f'activeInChIKey{Chem.MolToInchiKey(actives_sampled[cid])}')\n",
    "#     writer.write(actives_sampled[cid])\n",
    "    \n",
    "# writer = Chem.SDWriter(decoys_sampled_path)\n",
    "# for cid in range(len(decoys_sampled)):\n",
    "#     decoys_sampled[cid].SetProp('_Name', f'InChIKey{Chem.MolToInchiKey(decoys_sampled[cid])}')\n",
    "#     writer.write(decoys_sampled[cid])"
   ]
  },
  {
   "cell_type": "code",
   "execution_count": null,
   "metadata": {},
   "outputs": [],
   "source": [
    "# sampled_path = os.path.join(base_path, 'demo-data/pde5a/sample_600.sdf')\n",
    "# writer = Chem.SDWriter(sampled_path)\n",
    "# for cid in range(len(actives)):\n",
    "#     writer.write(actives[cid])\n",
    "# for cid in range(len(decoys)):\n",
    "#     writer.write(decoys[cid])"
   ]
  },
  {
   "cell_type": "code",
   "execution_count": null,
   "metadata": {},
   "outputs": [],
   "source": [
    "# actives = actives[:10]\n",
    "# decoys = decoys[:50]\n",
    "# lan_a = len(actives)\n",
    "# len_d = len(decoys)"
   ]
  },
  {
   "cell_type": "code",
   "execution_count": null,
   "metadata": {},
   "outputs": [],
   "source": [
    "def toy_test_similarity(s_func, prb_mols, ref_mol, align_time=0):\n",
    "    start = timeit.default_timer()\n",
    "    similarity_list = s_func(prb_mols, ref_mol, n_jobs=n_jobs, verbose=1)\n",
    "    end = timeit.default_timer()\n",
    "\n",
    "    print(f'mean   : {mean(similarity_list)}')\n",
    "    print(f'median : {median(similarity_list)}')\n",
    "    time = len(prb_mols) / (end - start + align_time)\n",
    "    return similarity_list, time"
   ]
  },
  {
   "cell_type": "code",
   "execution_count": null,
   "metadata": {},
   "outputs": [],
   "source": [
    "sim_dict = dict()\n",
    "tim_dict = dict()"
   ]
  },
  {
   "cell_type": "code",
   "execution_count": null,
   "metadata": {},
   "outputs": [],
   "source": [
    "similarity_methods = {\n",
    "    'rdkit_protrude': sm.rdkit_shape_protrude_dist, \n",
    "    'rdkit_tanimoto': sm.rdkit_shape_tanimoto_dist,\n",
    "    'rdkit_tversky': sm.rdkit_shape_tversky_index,\n",
    "    'rdkit_sc': sm.rdkit_sc_score,\n",
    "    'rdkit_sc_tanimoto': sm.rdkit_sc_score_tanimoto,\n",
    "    'rdkit_sc_tversky': sm.rdkit_sc_score_tversky,\n",
    "}\n",
    "\n",
    "for name, func in similarity_methods.items():\n",
    "    _name = name\n",
    "    name = _name + '-o3a'    \n",
    "    print(f'🌟 {name} 🌟')\n",
    "    result_tmp = sim_dict.get(name, [])\n",
    "    t_tmp = tim_dict.get(name, [])\n",
    "    print('----👇 actives 👇----')\n",
    "    similarity_score, time_a = toy_test_similarity(func, actives_o, ligand, a_o_a_time)\n",
    "    result_tmp += [(ele, 1) for ele in similarity_score]\n",
    "    t_tmp.append(time_a)\n",
    "    print('----👇 decoys 👇----')\n",
    "    similarity_score, time_d = toy_test_similarity(func, decoys_o, ligand, a_o_d_time)\n",
    "    result_tmp += [(ele, 0) for ele in similarity_score]\n",
    "    t_tmp.append(time_d)\n",
    "    # assert len(result_tmp) == 600, f\"len(result_tmp) = {len(result_tmp)}\"\n",
    "    sim_dict[name] = result_tmp\n",
    "    tim_dict[name] = t_tmp\n",
    "    print(f'speed: {mean([time_a, time_d])}')\n",
    "\n",
    "\n",
    "    name = _name + '-crippeno3a'\n",
    "    print(f'🌟 {name} 🌟')\n",
    "    result_tmp = sim_dict.get(name, [])\n",
    "    t_tmp = tim_dict.get(name, [])\n",
    "    print('----👇 actives 👇----')\n",
    "    similarity_score, time_a = toy_test_similarity(func, actives_c, ligand, a_c_a_time)\n",
    "    result_tmp += [(ele, 1) for ele in similarity_score]\n",
    "    t_tmp.append(time_a)\n",
    "    print('----👇 decoys 👇----')\n",
    "    similarity_score, time_d = toy_test_similarity(func, decoys_c, ligand, a_c_d_time)\n",
    "    result_tmp += [(ele, 0) for ele in similarity_score]\n",
    "    t_tmp.append(time_d)\n",
    "    # assert len(result_tmp) == 600, f\"len(result_tmp) = {len(result_tmp)}\"\n",
    "    sim_dict[name] = result_tmp\n",
    "    tim_dict[name] = t_tmp\n",
    "    print(f'speed: {mean([time_a, time_d])}')"
   ]
  },
  {
   "cell_type": "code",
   "execution_count": null,
   "metadata": {},
   "outputs": [],
   "source": [
    "similarity_methods = {\n",
    "    'rdkit_pharm_tanimoto': sm.rdkit_pharm_tanimoto,\n",
    "    'rdkit_pharm_tversky': sm.rdkit_pharm_tversky,\n",
    "    'rdkit_fp_maccs': sm.rdkit_fp_maccs,\n",
    "    'rdkit_fp_maccs_tanimoto': sm.rdkit_fp_maccs_tainimoto,\n",
    "    'rdkit_fp_maccs_tversky': sm.rdkit_fp_maccs_tversky,\n",
    "    'rdkit_fp_margan': sm.rdkit_fp_morgan,\n",
    "    'rdkit_fp_margan_tanimoto': sm.rdkit_fp_morgan_tanimoto,\n",
    "    'rdkit_fp_margan_tversky': sm.rdkit_fp_morgan_tversky,\n",
    "}\n",
    "\n",
    "for name, func in similarity_methods.items():  \n",
    "    print(f'🌟 {name} 🌟')\n",
    "    result_tmp = sim_dict.get(name, [])\n",
    "    t_tmp = tim_dict.get(name, [])\n",
    "    print('----👇 actives 👇----')\n",
    "    similarity_score, time_a = toy_test_similarity(func, actives, ligand)\n",
    "    result_tmp += [(ele, 1) for ele in similarity_score]\n",
    "    t_tmp.append(time_a)\n",
    "    print('----👇 decoys 👇----')\n",
    "    similarity_score, time_d = toy_test_similarity(func, decoys, ligand)\n",
    "    result_tmp += [(ele, 0) for ele in similarity_score]\n",
    "    t_tmp.append(time_d)\n",
    "    # assert len(result_tmp) == 600, f\"len(result_tmp) = {len(result_tmp)}\"\n",
    "    sim_dict[name] = result_tmp\n",
    "    tim_dict[name] = t_tmp\n",
    "    print(f'speed: {mean([time_a, time_d])}')\n"
   ]
  },
  {
   "cell_type": "code",
   "execution_count": null,
   "metadata": {},
   "outputs": [],
   "source": [
    "# similarity_methods = {\n",
    "#     'rdkit_protrude': sm.rdkit_shape_protrude_dist, \n",
    "#     'rdkit_tanimoto': sm.rdkit_shape_tanimoto_dist,\n",
    "#     'rdkit_tversky': sm.rdkit_shape_tversky_index,\n",
    "#     'rdkit_sc': sm.rdkit_sc_score,\n",
    "#     'rdkit_sc_tanimoto': sm.rdkit_sc_score_tanimoto,\n",
    "#     'rdkit_sc_tversky': sm.rdkit_sc_score_tversky,\n",
    "#     'rdkit_pharm_tanimoto': sm.rdkit_pharm_tanimoto,\n",
    "#     'rdkit_pharm_tversky': sm.rdkit_pharm_tversky,\n",
    "#     'rdkit_fp_maccs': sm.rdkit_fp_maccs,\n",
    "#     'rdkit_fp_maccs_tanimoto': sm.rdkit_fp_maccs_tainimoto,\n",
    "#     'rdkit_fp_maccs_tversky': sm.rdkit_fp_maccs_tversky,\n",
    "#     'rdkit_fp_margan': sm.rdkit_fp_morgan,\n",
    "#     'rdkit_fp_margan_tanimoto': sm.rdkit_fp_morgan_tanimoto,\n",
    "#     'rdkit_fp_margan_tversky': sm.rdkit_fp_morgan_tversky,\n",
    "# }\n",
    "\n",
    "# do_not_align = ['rdkit_pharm_tanimoto', 'rdkit_pharm_tversky','rdkit_fp_maccs', 'rdkit_fp_maccs_tanimoto', 'rdkit_fp_maccs_tversky', 'rdkit_fp_margan', 'rdkit_fp_margan_tanimoto', 'rdkit_fp_margan_tversky']\n",
    "\n",
    "# align_funcs_map_a = {\n",
    "#     'o3a': a_o_a_time, \n",
    "#     'crippeno3a': a_c_a_time,\n",
    "# }\n",
    "# align_funcs_map_d = {\n",
    "#     'o3a': a_o_d_time, \n",
    "#     'crippeno3a': a_c_d_time\n",
    "# }\n",
    "# align_funcs_list = ['o3a', 'crippeno3a']\n",
    "\n",
    "# sim_dict = dict()\n",
    "# tim_dict = dict()\n",
    "\n",
    "# for name, func in similarity_methods.items():\n",
    "#     ic(f'🌟 {name} 🌟')\n",
    "#     actives_sim_list = []\n",
    "#     decoys_sim_list = []\n",
    "#     ic('----👇 actives 👇----')\n",
    "#     align_funcs = align_funcs_list if name not in do_not_align else [None]\n",
    "#     tmp_time_list = []\n",
    "#     for align_name in align_funcs:\n",
    "#         if align_name:\n",
    "#             result_name = f'{name}-{align_name}'\n",
    "#             align_func = align_funcs_map_a[align_name]\n",
    "#             actives = actives_o if align_name=='o3a' else actives_c\n",
    "#         else:\n",
    "#             result_name = name\n",
    "#         tmp_sim, time = toy_test_similarity(\n",
    "#                             func, \n",
    "#                             actives, \n",
    "#                             ligand, \n",
    "#                             align_func=align_func\n",
    "#                             )\n",
    "#         result_tmp = sim_dict.get(result_name, [])\n",
    "#         result_tmp += [(ele, 1) for ele in tmp_sim]\n",
    "#         sim_dict[result_name] = result_tmp\n",
    "#         tmp_time_list.append(time)\n",
    "        \n",
    "#         t_tmp = tim_dict.get(result_name, [])\n",
    "#         t_tmp.append(time)\n",
    "#         tim_dict[result_name] = t_tmp\n",
    "\n",
    "#     ic('----👇 decoys 👇----')\n",
    "#     for align_name in align_funcs:\n",
    "#         if align_name:\n",
    "#             result_name = f'{name}-{align_name}'\n",
    "#             align_func = align_funcs_map_d[align_name]\n",
    "#             decoys = decoys_o \n",
    "#         else:\n",
    "#             result_name = name\n",
    "#         tmp_sim, time = toy_test_similarity(\n",
    "#                         func, \n",
    "#                         decoys, \n",
    "#                         ligand, \n",
    "#                         align_func=align_func\n",
    "#                         )\n",
    "#         result_tmp = sim_dict.get(result_name, [])\n",
    "#         result_tmp += [(ele, 0) for ele in tmp_sim]\n",
    "#         assert len(result_tmp) == (len_a + len_d), f\"len(result_tmp) = {len(result_tmp)}\"\n",
    "#         sim_dict[result_name] = result_tmp\n",
    "#         tmp_time_list.append(time)\n",
    "\n",
    "#         t_tmp = tim_dict.get(result_name, [])\n",
    "#         t_tmp.append(time)\n",
    "#         tim_dict[result_name] = t_tmp\n",
    "    \n",
    "#     for i in range(len(tmp_time_list)//2):\n",
    "#         ic(mean(tmp_time_list[i::len(tmp_time_list)//2]))"
   ]
  },
  {
   "cell_type": "code",
   "execution_count": null,
   "metadata": {},
   "outputs": [],
   "source": [
    "for name, score_list in sim_dict.items():\n",
    "    mean_actives_score = mean([ele[0] for ele in score_list if ele[1]==1])\n",
    "    mean_decoys_score = mean([ele[0] for ele in score_list if ele[1]==0])\n",
    "    ic(name)\n",
    "    ic(mean_actives_score)\n",
    "    ic(mean_decoys_score)"
   ]
  },
  {
   "cell_type": "markdown",
   "metadata": {},
   "source": [
    "## 2.2 ODDT"
   ]
  },
  {
   "cell_type": "markdown",
   "metadata": {},
   "source": [
    "### 2.2.1 测试"
   ]
  },
  {
   "cell_type": "code",
   "execution_count": null,
   "metadata": {},
   "outputs": [],
   "source": [
    "next(oddt.toolkit.readfile('mol2', l_path))"
   ]
  },
  {
   "cell_type": "code",
   "execution_count": null,
   "metadata": {},
   "outputs": [],
   "source": [
    "tmp = [mol for mol in list(oddt.toolkit.readfile('sdf', d_path)) if mol]\n",
    "len(tmp)"
   ]
  },
  {
   "cell_type": "code",
   "execution_count": null,
   "metadata": {},
   "outputs": [],
   "source": [
    "tmp[0]"
   ]
  },
  {
   "cell_type": "markdown",
   "metadata": {},
   "source": [
    "### 2.2.2 相似度计算"
   ]
  },
  {
   "cell_type": "code",
   "execution_count": null,
   "metadata": {},
   "outputs": [],
   "source": [
    "ligand = next(oddt.toolkit.readfile('mol2', l_path))\n",
    "actives = [mol for mol in oddt.toolkit.readfile('sdf', a_path) if mol]\n",
    "decoys = [mol for mol in oddt.toolkit.readfile('sdf', d_path) if mol]\n",
    "# actives = [mol for mol in oddt.toolkit.readfile('sdf', actives_sampled_path) if mol]\n",
    "# decoys = [mol for mol in oddt.toolkit.readfile('sdf', decoys_sampled_path) if mol]\n",
    "\n",
    "len_a = len(actives)\n",
    "len_d = len(decoys)"
   ]
  },
  {
   "cell_type": "code",
   "execution_count": null,
   "metadata": {},
   "outputs": [],
   "source": [
    "# actives = actives[:10]\n",
    "# decoys = decoys[:50]\n",
    "# len_a = len(actives)\n",
    "# len_d = len(decoys)"
   ]
  },
  {
   "cell_type": "code",
   "execution_count": null,
   "metadata": {},
   "outputs": [],
   "source": [
    "ic(len_a)\n",
    "ic(len_d)"
   ]
  },
  {
   "cell_type": "code",
   "execution_count": null,
   "metadata": {},
   "outputs": [],
   "source": [
    "def toy_test_similarity(s_func, prb_mols, ref_mol):\n",
    "    start = timeit.default_timer()\n",
    "    score_list = s_func(prb_mols, ref_mol, n_jobs=n_jobs, verbose=1)\n",
    "    end = timeit.default_timer()\n",
    "    \n",
    "    print(f'mean   : {mean(score_list)}')\n",
    "    print(f'median : {median(score_list)}')\n",
    "\n",
    "    return score_list, len(prb_mols)/(end - start)\n"
   ]
  },
  {
   "cell_type": "code",
   "execution_count": null,
   "metadata": {},
   "outputs": [],
   "source": [
    "similarity_methods = {\n",
    "    'oddt_usr': sm.oddt_usr,\n",
    "    'oddt_usr_cat': sm.oddt_usr_cat,\n",
    "    'oddt_electroshape': sm.oddt_electroshape,\n",
    "}\n",
    "for name, func in similarity_methods.items():\n",
    "    print(f'🌟 {name} 🌟')\n",
    "    result_tmp = sim_dict.get(name, [])\n",
    "    t_tmp = tim_dict.get(name, [])\n",
    "    print('----👇 actives 👇----')\n",
    "    similarity_score, time_a = toy_test_similarity(func, actives, ligand)\n",
    "    result_tmp += [(ele, 1) for ele in similarity_score]\n",
    "    t_tmp.append(time_a)\n",
    "    print('----👇 decoys 👇----')\n",
    "    similarity_score, time_d = toy_test_similarity(func, decoys, ligand)\n",
    "    result_tmp += [(ele, 0) for ele in similarity_score]\n",
    "    t_tmp.append(time_d)\n",
    "    # assert len(result_tmp) == 600, f\"len(result_tmp) = {len(result_tmp)}\"\n",
    "    sim_dict[name] = result_tmp\n",
    "    tim_dict[name] = t_tmp\n",
    "    print(f'speed: {mean([time_a, time_d])}')"
   ]
  },
  {
   "cell_type": "code",
   "execution_count": null,
   "metadata": {},
   "outputs": [],
   "source": [
    "sim_dict.keys()"
   ]
  },
  {
   "cell_type": "code",
   "execution_count": null,
   "metadata": {},
   "outputs": [],
   "source": [
    "save_dir = os.path.join(base_path, f'demo-data/result/{target_list[target_flag]}/')"
   ]
  },
  {
   "cell_type": "code",
   "execution_count": null,
   "metadata": {},
   "outputs": [],
   "source": [
    "if not os.path.exists(save_dir):\n",
    "    os.system(f\"mkdir {save_dir}\")"
   ]
  },
  {
   "cell_type": "code",
   "execution_count": null,
   "metadata": {},
   "outputs": [],
   "source": [
    "save_dir = os.path.join(base_path, f'demo-data/result/{target_list[target_flag]}/')\n",
    "with open(os.path.join(save_dir, f'{target_list[target_flag]}-sim_dict.pickle'), 'wb') as f:\n",
    "    pickle.dump(sim_dict, f)\n",
    "with open(os.path.join(save_dir, f'{target_list[target_flag]}-tim_dict.pickle'), 'wb') as f:\n",
    "    pickle.dump(tim_dict, f)"
   ]
  },
  {
   "cell_type": "code",
   "execution_count": null,
   "metadata": {},
   "outputs": [],
   "source": [
    "save_dir = os.path.join(base_path, f'demo-data/result/{target_list[target_flag]}/')\n",
    "ic(save_dir)\n",
    "with open(os.path.join(save_dir, f'{target_list[target_flag]}-sim_dict.pickle'), 'rb') as f:\n",
    "    sim_dict = pickle.load(f)\n",
    "with open(os.path.join(save_dir, f'{target_list[target_flag]}-tim_dict.pickle'), 'rb') as f:\n",
    "    tim_dict = pickle.load(f)\n",
    "sim_dict.keys()"
   ]
  },
  {
   "cell_type": "markdown",
   "metadata": {},
   "source": [
    "## 2.3 acpc"
   ]
  },
  {
   "cell_type": "code",
   "execution_count": null,
   "metadata": {},
   "outputs": [],
   "source": [
    "a_path = os.path.join(base_path, dude_dir, target_list[target_flag], 'actives_dd.sdf')\n",
    "d_path = os.path.join(base_path, dude_dir, target_list[target_flag], 'decoys_dd.sdf')\n",
    "l_path = os.path.join(base_path, dude_dir, target_list[target_flag], 'crystal_ligand.mol2')\n",
    "ic(a_path)\n",
    "\n",
    "# decoys = fn.Mol2MolSupplier(d_path, sanitize=True)\n",
    "dec = [m for m in Chem.SDMolSupplier(d_path, removeHs=False) if m]\n",
    "ic(len(dec))\n",
    "# Draw.MolsToGridImage(random.sample(decoys, 7), molsPerRow=7, subImgSize=(150,150), legends=[mol.GetProp('_Name') for mol in decoys[:7]],maxMols=100)\n",
    "\n",
    "act = [m for m in Chem.SDMolSupplier(a_path, removeHs=False) if m]\n",
    "ic(len(act))\n",
    "# Draw.MolsToGridImage(random.sample(actives, 7), molsPerRow=7, subImgSize=(150,150), legends=[mol.GetProp('_Name') for mol in actives[:7]],maxMols=100)\n",
    "\n",
    "lig = AllChem.MolFromMol2File(l_path, removeHs=False)\n",
    "lig = Chem.AddHs(lig, addCoords=True)\n",
    "lig"
   ]
  },
  {
   "cell_type": "code",
   "execution_count": null,
   "metadata": {},
   "outputs": [],
   "source": [
    "sim_dict = dict()\n",
    "tim_dict = dict()"
   ]
  },
  {
   "cell_type": "code",
   "execution_count": null,
   "metadata": {},
   "outputs": [],
   "source": [
    "for mol in act:\n",
    "    mol.SetProp('_Name', f'activesInChIKey{AllChem.MolToInchiKey(mol)}')\n",
    "for mol in dec:\n",
    "    mol.SetProp('_Name', f'InChIKey{AllChem.MolToInchiKey(mol)}')"
   ]
  },
  {
   "cell_type": "markdown",
   "metadata": {},
   "source": [
    "### 2.3.1 mol2"
   ]
  },
  {
   "cell_type": "code",
   "execution_count": null,
   "metadata": {},
   "outputs": [],
   "source": [
    "prb_acpc_ml2_path = os.path.join(base_path, dude_dir, target_list[target_flag], 'prb_acpc.mol2')\n",
    "ref_acpc_ml2_path = l_path\n",
    "out_acpc_ml2_path = os.path.join(base_path, 'demo-data/result/acpc', target_list[target_flag], f'{target_list[target_flag]}-ml2-result.txt')\n",
    "\n",
    "fn.MolToSpecialFormatFile(act+dec, prb_acpc_ml2_path)"
   ]
  },
  {
   "cell_type": "code",
   "execution_count": null,
   "metadata": {},
   "outputs": [],
   "source": [
    "sat = timeit.default_timer()\n",
    "sim_dict['acpc-ml2'] = sm.acpc(ref_path=ref_acpc_ml2_path, prb_path=prb_acpc_ml2_path, out_path=out_acpc_ml2_path, num_core=n_jobs)\n",
    "end = timeit.default_timer()\n",
    "tim_dict['acpc-ml2'] = [len(act+dec)/(end-sat)]"
   ]
  },
  {
   "cell_type": "code",
   "execution_count": null,
   "metadata": {},
   "outputs": [],
   "source": [
    "prb_acpc_ml2_bin_path = os.path.join(base_path, dude_dir, target_list[target_flag], 'prb_acpc.mol2.bin')\n",
    "out_acpc_ml2_bin_path = os.path.join(base_path, 'demo-data/result/acpc', target_list[target_flag], f'{target_list[target_flag]}-ml2-bin-result.txt')\n",
    "os.system(f'acpc_codec -i {prb_acpc_ml2_path} -o {prb_acpc_ml2_bin_path}')"
   ]
  },
  {
   "cell_type": "code",
   "execution_count": null,
   "metadata": {},
   "outputs": [],
   "source": [
    "sat = timeit.default_timer()\n",
    "sim_dict['acpc-ml2-bin'] = sm.acpc(ref_path=ref_acpc_ml2_path, prb_path=prb_acpc_ml2_bin_path, out_path=out_acpc_ml2_bin_path, num_core=n_jobs)\n",
    "end = timeit.default_timer()\n",
    "tim_dict['acpc-ml2-bin'] = [len(act+dec)/(end-sat)]"
   ]
  },
  {
   "cell_type": "markdown",
   "metadata": {},
   "source": [
    "### 2.3.2 pqr"
   ]
  },
  {
   "cell_type": "code",
   "execution_count": null,
   "metadata": {},
   "outputs": [],
   "source": [
    "prb_acpc_pqr_path = os.path.join(base_path, dude_dir, target_list[target_flag], 'prb_acpc.pqr')\n",
    "fn.MolToSpecialFormatFile(act+dec, prb_acpc_pqr_path)\n",
    "ref_acpc_pqr_path = os.path.join(base_path, dude_dir, target_list[target_flag], 'ref_acpc.pqr')\n",
    "fn.MolToSpecialFormatFile([lig], ref_acpc_pqr_path)\n",
    "out_acpc_pqr_path = os.path.join(base_path, 'demo-data/result/acpc', target_list[target_flag], f'{target_list[target_flag]}-pqr-result.txt')"
   ]
  },
  {
   "cell_type": "code",
   "execution_count": null,
   "metadata": {},
   "outputs": [],
   "source": [
    "sat = timeit.default_timer()\n",
    "sim_dict['acpc-pqr'] = sm.acpc(ref_path=ref_acpc_pqr_path, prb_path=prb_acpc_pqr_path, out_path=out_acpc_pqr_path, num_core=n_jobs)\n",
    "end = timeit.default_timer()\n",
    "tim_dict['acpc-pqr'] = [len(act+dec)/(end-sat)]"
   ]
  },
  {
   "cell_type": "markdown",
   "metadata": {},
   "source": [
    "## 2.4 ESP-SIM"
   ]
  },
  {
   "cell_type": "code",
   "execution_count": null,
   "metadata": {},
   "outputs": [],
   "source": [
    "a_path = os.path.join(base_path, dude_dir, target_list[target_flag], 'actives_dd.sdf')\n",
    "d_path = os.path.join(base_path, dude_dir, target_list[target_flag], 'decoys_dd.sdf')\n",
    "l_path = os.path.join(base_path, dude_dir, target_list[target_flag], 'crystal_ligand.mol2')\n",
    "ic(a_path)\n",
    "ic(d_path)\n",
    "ic(l_path)\n",
    "\n",
    "# decoys = fn.Mol2MolSupplier(d_path, sanitize=True)\n",
    "dec = [m for m in Chem.SDMolSupplier(d_path, removeHs=False) if m]\n",
    "ic(len(dec))\n",
    "# Draw.MolsToGridImage(random.sample(decoys, 7), molsPerRow=7, subImgSize=(150,150), legends=[mol.GetProp('_Name') for mol in decoys[:7]],maxMols=100)\n",
    "\n",
    "act = [m for m in Chem.SDMolSupplier(a_path, removeHs=False) if m]\n",
    "ic(len(act))\n",
    "# Draw.MolsToGridImage(random.sample(actives, 7), molsPerRow=7, subImgSize=(150,150), legends=[mol.GetProp('_Name') for mol in actives[:7]],maxMols=100)\n",
    "\n",
    "lig = AllChem.MolFromMol2File(l_path, removeHs=False)\n",
    "lig = Chem.AddHs(lig, addCoords=True)\n",
    "lig"
   ]
  },
  {
   "cell_type": "code",
   "execution_count": null,
   "metadata": {},
   "outputs": [],
   "source": [
    "act[0]"
   ]
  },
  {
   "cell_type": "code",
   "execution_count": null,
   "metadata": {},
   "outputs": [],
   "source": [
    "len_a = len(act)\n",
    "len_d = len(dec)"
   ]
  },
  {
   "cell_type": "code",
   "execution_count": null,
   "metadata": {},
   "outputs": [],
   "source": [
    "sim_dict = dict()\n",
    "tim_dict = dict()"
   ]
  },
  {
   "cell_type": "code",
   "execution_count": null,
   "metadata": {},
   "outputs": [],
   "source": [
    "ali_o3a_time = 0\n",
    "sta = timeit.default_timer()\n",
    "act_o3a, align_score =al.rdkit_o3a(act, lig, n_jobs=n_jobs, verbose=1)\n",
    "dec_o3a, align_score =al.rdkit_o3a(dec, lig, n_jobs=n_jobs, verbose=1)\n",
    "end = timeit.default_timer()\n",
    "ali_o3a_time = end - sta\n",
    "ic(ali_o3a_time)\n",
    "\n",
    "ali_cri_time = 0\n",
    "sta = timeit.default_timer()\n",
    "act_cri, align_score =al.rdkit_crippeno3a(act, lig, n_jobs=n_jobs, verbose=1)\n",
    "dec_cri, align_score =al.rdkit_crippeno3a(dec, lig, n_jobs=n_jobs, verbose=1)\n",
    "end = timeit.default_timer()\n",
    "ali_cri_time = end - sta\n",
    "ic(ali_cri_time)"
   ]
  },
  {
   "cell_type": "code",
   "execution_count": null,
   "metadata": {},
   "outputs": [],
   "source": [
    "sat = timeit.default_timer()\n",
    "act_sim_list = sm.esp_sim(act_cri, lig, n_jobs=n_jobs, verbose=1)\n",
    "dec_sim_list = sm.esp_sim(dec_cri, lig, n_jobs=n_jobs, verbose=1)\n",
    "end = timeit.default_timer()\n",
    "sim_dict['esp-sim-crippeno3a-tanimoto-mmff-tanimoto'] = [(sim, 1) for sim in act_sim_list] + [(sim, 0) for sim in dec_sim_list]\n",
    "tim_dict['esp-sim-crippeno3a-tanimoto-mmff-tanimoto'] = [(len_a + len_d) / (end - sat + ali_cri_time)]"
   ]
  },
  {
   "cell_type": "code",
   "execution_count": null,
   "metadata": {},
   "outputs": [],
   "source": [
    "sat = timeit.default_timer()\n",
    "act_sim_list = sm.esp_sim(act_o3a, lig, n_jobs=n_jobs, verbose=1)\n",
    "dec_sim_list = sm.esp_sim(dec_o3a, lig, n_jobs=n_jobs, verbose=1)\n",
    "end = timeit.default_timer()\n",
    "sim_dict['esp-sim-o3a-tanimoto-mmff-tanimoto'] = [(sim, 1) for sim in act_sim_list] + [(sim, 0) for sim in dec_sim_list]\n",
    "tim_dict['esp-sim-o3a-tanimoto-mmff-tanimoto'] = [(len_a + len_d) / (end - sat + ali_o3a_time)]"
   ]
  },
  {
   "cell_type": "code",
   "execution_count": null,
   "metadata": {},
   "outputs": [],
   "source": [
    "sat = timeit.default_timer()\n",
    "act_sim_list = sm.esp_sim(act_o3a, lig, shape_sim='protrude', n_jobs=n_jobs, verbose=1)\n",
    "dec_sim_list = sm.esp_sim(dec_o3a, lig, shape_sim='protrude', n_jobs=n_jobs, verbose=1)\n",
    "end = timeit.default_timer()\n",
    "sim_dict['esp-sim-o3a-protrude-mmff-tanimoto'] = [(sim, 1) for sim in act_sim_list] + [(sim, 0) for sim in dec_sim_list]\n",
    "tim_dict['esp-sim-o3a-protrude-mmff-tanimoto'] = [(len_a + len_d) / (end - sat + ali_o3a_time)]"
   ]
  },
  {
   "cell_type": "code",
   "execution_count": null,
   "metadata": {},
   "outputs": [],
   "source": [
    "sat = timeit.default_timer()\n",
    "act_sim_list = sm.esp_sim(act_o3a, lig, shape_sim='tversky', n_jobs=n_jobs, verbose=1)\n",
    "dec_sim_list = sm.esp_sim(dec_o3a, lig, shape_sim='tversky', n_jobs=n_jobs, verbose=1)\n",
    "end = timeit.default_timer()\n",
    "sim_dict['esp-sim-o3a-tversky-mmff-tanimoto'] = [(sim, 1) for sim in act_sim_list] + [(sim, 0) for sim in dec_sim_list]\n",
    "tim_dict['esp-sim-o3a-tversky-mmff-tanimoto'] = [(len_a + len_d) / (end - sat + ali_o3a_time)]"
   ]
  },
  {
   "cell_type": "code",
   "execution_count": null,
   "metadata": {},
   "outputs": [],
   "source": [
    "sat = timeit.default_timer()\n",
    "act_sim_list = sm.esp_sim(act_o3a, lig, systems='gasteiger', n_jobs=n_jobs, verbose=1)\n",
    "dec_sim_list = sm.esp_sim(dec_o3a, lig, systems='gasteiger', n_jobs=n_jobs, verbose=1)\n",
    "end = timeit.default_timer()\n",
    "sim_dict['esp-sim-o3a-tanimoto-gasteiger-tanimoto'] = [(sim, 1) for sim in act_sim_list] + [(sim, 0) for sim in dec_sim_list]\n",
    "tim_dict['esp-sim-o3a-tanimoto-gasteiger-tanimoto'] = [(len_a + len_d) / (end - sat + ali_o3a_time)]"
   ]
  },
  {
   "cell_type": "code",
   "execution_count": null,
   "metadata": {},
   "outputs": [],
   "source": [
    "sat = timeit.default_timer()\n",
    "prb_charge = mlCharges(act+dec)\n",
    "ref_charge = mlCharges([lig])[0]\n",
    "end = timeit.default_timer()\n",
    "ml_char_time = end - sat"
   ]
  },
  {
   "cell_type": "code",
   "execution_count": null,
   "metadata": {},
   "outputs": [],
   "source": [
    "sat = timeit.default_timer()\n",
    "act_sim_list = sm.esp_sim(act_o3a, lig, systems='ml', prb_charge=prb_charge[:len_a], ref_charge=ref_charge, n_jobs=n_jobs, verbose=1)\n",
    "dec_sim_list = sm.esp_sim(dec_o3a, lig, systems='ml', prb_charge=prb_charge[len_a:], ref_charge=ref_charge, n_jobs=n_jobs, verbose=1)\n",
    "end = timeit.default_timer()\n",
    "sim_dict['esp-sim-o3a-tanimoto-ml-tanimoto'] = [(sim, 1) for sim in act_sim_list] + [(sim, 0) for sim in dec_sim_list]\n",
    "tim_dict['esp-sim-o3a-tanimoto-ml-tanimoto'] = [(len_a + len_d) / (end - sat + ali_o3a_time + ml_char_time)]"
   ]
  },
  {
   "cell_type": "code",
   "execution_count": null,
   "metadata": {},
   "outputs": [],
   "source": [
    "sat = timeit.default_timer()\n",
    "act_sim_list = sm.esp_sim(act_o3a, lig, metric='carbo', n_jobs=n_jobs, verbose=1)\n",
    "dec_sim_list = sm.esp_sim(dec_o3a, lig, metric='carbo', n_jobs=n_jobs, verbose=1)\n",
    "end = timeit.default_timer()\n",
    "sim_dict['esp-sim-o3a-tanimoto-mmff-carbo'] = [(sim, 1) for sim in act_sim_list] + [(sim, 0) for sim in dec_sim_list]\n",
    "tim_dict['esp-sim-o3a-tanimoto-mmff-carbo'] = [(len_a + len_d) / (end - sat + ali_o3a_time)]"
   ]
  },
  {
   "cell_type": "code",
   "execution_count": null,
   "metadata": {},
   "outputs": [],
   "source": [
    "sim_dict.keys()"
   ]
  },
  {
   "cell_type": "code",
   "execution_count": null,
   "metadata": {},
   "outputs": [],
   "source": [
    "save_dir = os.path.join(base_path, f'demo-data/result/espsim/{target_list[target_flag]}/')\n",
    "if not os.path.exists(save_dir):\n",
    "    os.system(f\"mkdir -p {save_dir}\")"
   ]
  },
  {
   "cell_type": "code",
   "execution_count": null,
   "metadata": {},
   "outputs": [],
   "source": [
    "with open(os.path.join(save_dir, f'{target_list[target_flag]}-sim_dict.pickle'), 'wb') as f:\n",
    "    pickle.dump(sim_dict, f)\n",
    "with open(os.path.join(save_dir, f'{target_list[target_flag]}-tim_dict.pickle'), 'wb') as f:\n",
    "    pickle.dump(tim_dict, f)"
   ]
  },
  {
   "cell_type": "code",
   "execution_count": null,
   "metadata": {},
   "outputs": [],
   "source": [
    "ic(save_dir)\n",
    "with open(os.path.join(save_dir, f'{target_list[target_flag]}-sim_dict.pickle'), 'rb') as f:\n",
    "    sim_dict = pickle.load(f)\n",
    "with open(os.path.join(save_dir, f'{target_list[target_flag]}-tim_dict.pickle'), 'rb') as f:\n",
    "    tim_dict = pickle.load(f)\n",
    "sim_dict.keys()"
   ]
  },
  {
   "cell_type": "markdown",
   "metadata": {},
   "source": [
    "## 2.3 评价指标"
   ]
  },
  {
   "cell_type": "code",
   "execution_count": null,
   "metadata": {},
   "outputs": [],
   "source": [
    "i = 1\n",
    "for name, score in sim_dict.items():\n",
    "    plt.figure(figsize=(5, 5), dpi=200)\n",
    "    \n",
    "    score_list = sorted(score, key=lambda x: x[0])\n",
    "\n",
    "    y_lable = np.asarray([ele[1] for ele in score_list])\n",
    "    y_score = np.asarray([ele[0] for ele in score_list])\n",
    "\n",
    "    fpr, tpr, _ = metrics.roc_curve(y_lable, y_score)\n",
    "    roc_auc = metrics.auc(fpr, tpr)\n",
    "\n",
    "    plt.plot(\n",
    "        fpr,\n",
    "        tpr,\n",
    "        color=\"darkorange\",\n",
    "        lw=2,\n",
    "        label=\"ROC curve (area = %0.2f)\" % roc_auc,\n",
    "    )\n",
    "    plt.plot([0, 1], [0, 1], color=\"navy\", lw=2, linestyle=\"--\")\n",
    "    plt.xlim([0.0, 1.0])\n",
    "    plt.ylim([0.0, 1.05])\n",
    "    plt.xlabel(\"False Positive Rate\")\n",
    "    plt.ylabel(\"True Positive Rate\")\n",
    "    plt.title(f\"ROC {name}\")\n",
    "    plt.legend(loc=\"lower right\")\n",
    "    plt.savefig(os.path.join(save_dir, f'{i :0>2}-roc-{name}.png'))\n",
    "    plt.show()\n",
    "    i += 1"
   ]
  },
  {
   "cell_type": "code",
   "execution_count": null,
   "metadata": {},
   "outputs": [],
   "source": []
  },
  {
   "cell_type": "code",
   "execution_count": null,
   "metadata": {},
   "outputs": [],
   "source": [
    "i = 1\n",
    "for name, score in sim_dict.items():\n",
    "    fig, ax = plt.subplots(figsize=(5, 5), dpi=200)\n",
    "    \n",
    "    score_list = sorted(score, key=lambda x: x[0])\n",
    "\n",
    "    y_lable = np.asarray([ele[1] for ele in score_list])\n",
    "    y_score = np.asarray([ele[0] for ele in score_list])\n",
    "\n",
    "    fpr, tpr, _ = metrics.roc_curve(y_lable, y_score)\n",
    "    \n",
    "    log_min = 0.001\n",
    "    log_max = 1.0\n",
    "\n",
    "    fpr = fpr.clip(log_min)\n",
    "    idx = (fpr <= log_max)\n",
    "    log_fpr = 1 - np.log10(fpr[idx]) / np.log10(log_min)\n",
    "    \n",
    "    log_roc_auc = metrics.auc(log_fpr, tpr[idx])\n",
    "\n",
    "\n",
    "    plt.plot(\n",
    "        fpr[idx],\n",
    "        tpr[idx],\n",
    "        color=\"darkorange\",\n",
    "        lw=2,\n",
    "        label=\"logROC curve (area = %0.2f)\" % log_roc_auc,\n",
    "    )\n",
    "    x = np.linspace(0.001, 1, 200)\n",
    "    y = x\n",
    "    plt.plot(x, y, color=\"navy\", lw=2, linestyle=\"--\")\n",
    "\n",
    "    plt.ylim([0.0, 1.05])\n",
    "    plt.xscale('log')\n",
    "    plt.xlim([0.001, 1])\n",
    "    ax.set_xticks([0.001, 0.01, 0.1, 1.0])\n",
    "    plt.xlabel(\"False Positive Rate\")\n",
    "    plt.ylabel(\"True Positive Rate\")\n",
    "    plt.title(f\"logROC {name}\")\n",
    "    plt.legend(loc=\"lower right\")\n",
    "    plt.savefig(os.path.join(save_dir, f'{i :0>2}-log_roc-{name}.png'))\n",
    "    plt.show()\n",
    "    i += 1"
   ]
  },
  {
   "cell_type": "code",
   "execution_count": null,
   "metadata": {},
   "outputs": [],
   "source": [
    "x = np.linspace(0.001, 1, 200)\n",
    "y = x\n",
    "x = 1 - np.log10(x) / np.log10(log_min)\n",
    "plt.plot(x, y, color=\"navy\", lw=2, linestyle=\"--\")\n",
    "# plt.xscale('log')"
   ]
  },
  {
   "cell_type": "code",
   "execution_count": null,
   "metadata": {},
   "outputs": [],
   "source": [
    "x = np.linspace(0.001, 1, 200)\n",
    "y = x\n",
    "plt.plot(x, y, color=\"navy\", lw=2, linestyle=\"--\")\n",
    "plt.xscale('log')"
   ]
  },
  {
   "cell_type": "code",
   "execution_count": null,
   "metadata": {},
   "outputs": [],
   "source": [
    "# np.asarray([1,3,4,5,6,7]).clip(4)\n",
    "sorted([1,2,5,6,7], key=lambda x: -x)"
   ]
  },
  {
   "cell_type": "code",
   "execution_count": null,
   "metadata": {},
   "outputs": [],
   "source": [
    "result_list = []\n",
    "for name, score in sim_dict.items():\n",
    "    score_list = sorted(score, key=lambda x: -x[0])\n",
    "\n",
    "    y_score = np.asarray([ele[0] for ele in score_list])\n",
    "    y_lable = np.asarray([ele[1] for ele in score_list])\n",
    "    \n",
    "    metrics_list = mt.calculate_metrics(y_lable=y_lable, y_score=y_score)\n",
    "\n",
    "    print(f'--- 🌟 {name} 🌟 ---')\n",
    "    tmp_dict = {\n",
    "        'name' : name,\n",
    "        'time' : mean(tim_dict[name])\n",
    "    }\n",
    "    print(f'time: {mean(tim_dict[name])}')\n",
    "    for m_name, m_value in metrics_list.items():\n",
    "        tmp_dict[m_name] = m_value\n",
    "        print(f'{m_name:<30}: {m_value}')\n",
    "    result_list.append(tmp_dict)"
   ]
  },
  {
   "cell_type": "code",
   "execution_count": null,
   "metadata": {},
   "outputs": [],
   "source": [
    "pd.DataFrame(result_list).to_excel(os.path.join(save_dir, f'{target_list[target_flag]}_results.xlsx'))"
   ]
  },
  {
   "cell_type": "code",
   "execution_count": null,
   "metadata": {},
   "outputs": [],
   "source": [
    "molcalx = '/home/jovyan/work-home/molecule-3d-similarity/pde5_score.csv'\n",
    "df = pd.read_csv(molcalx)\n",
    "df_sorted = df.sort_values(by=['score'],ascending=True)\n",
    "score = df_sorted['score']\n",
    "x = np.array(score)*(-1)\n",
    "y = df_sorted['label']\n",
    "label_map = {'active': 1, 'decoy': 0}\n",
    "labels = [label_map[y_true] for y_true in y]\n",
    "y = np.array(labels)"
   ]
  },
  {
   "cell_type": "code",
   "execution_count": null,
   "metadata": {},
   "outputs": [],
   "source": [
    "auc = m.roc_auc(y, x, pos_label=1, ascending_score=False)\n",
    "print(\"ROC AUC = \",auc)\n",
    "bedroc = m.bedroc(y, x, alpha=20.0, pos_label=1)\n",
    "print(\"alpha=20.0 BEDROC = \",bedroc)\n",
    "logauc = m.roc_log_auc(y, x, pos_label=1, ascending_score=False, log_min=0.001, log_max=1.0)\n",
    "print(\"logAUC [0.1%,100%]  = \",logauc)"
   ]
  },
  {
   "cell_type": "code",
   "execution_count": null,
   "metadata": {},
   "outputs": [],
   "source": [
    "result_string = 'ROCSComboscore 0.598 ± 0.152 0.681 ± 0.166 0.674 ± 0.115 0.727 ± 0.128 ROCSColorscore 0.620 ± 0.139 0.712 ± 0.159 0.677 ± 0.117 0.752 ± 0.136 ROCSShapeTanimoto 0.547 ± 0.138 0.611 ± 0.163 0.618 ± 0.105 0.667 ± 0.127 Phase Shape_Mmod 0.677 ± 0.143 0.686 ± 0.145 0.772 ± 0.105 0.769 ± 0.108 Phase Shape_Ele 0.674 ± 0.153 0.688 ± 0.158 0.753 ± 0.105 0.750 ± 0.111 Phase Shape_Pharm 0.692 ± 0.160 0.694 ± 0.168 0.761 ± 0.145 0.767 ± 0.143 Shape-it 0.541 ± 0.133 0.590 ± 0.141 0.612 ± 0.110 0.639 ± 0.115 Align-it 0.659 ± 0.137 0.680 ± 0.157 0.729 ± 0.132 0.746 ± 0.139 ShaEPbest 0.658 ± 0.122 0.660 ± 0.139 0.709 ± 0.099 0.699 ± 0.120 ShaEPshape 0.625 ± 0.139 0.632 ± 0.143 0.681 ± 0.105 0.676 ± 0.116 ShaEPESP 0.606 ± 0.109 0.591 ± 0.117 0.627 ± 0.105 0.585 ± 0.125 SHAFTS 0.733 ± 0.144 0.731 ± 0.157 0.792 ± 0.129 0.782 ± 0.135 WEGA 0.645 ± 0.143 0.659 ± 0.154 0.716 ± 0.107 0.716 ± 0.125 LIGSIFT 0.718 ± 0.133 0.755 ± 0.143 0.758 ± 0.117 0.784 ± 0.120 LS-align 0.699 ± 0.126 0.759 ± 0.119 0.773 ± 0.098 0.786 ± 0.096'"
   ]
  },
  {
   "cell_type": "code",
   "execution_count": null,
   "metadata": {},
   "outputs": [],
   "source": [
    "result_string.split(' ')[13]"
   ]
  },
  {
   "cell_type": "code",
   "execution_count": null,
   "metadata": {},
   "outputs": [],
   "source": [
    "result_string.split(' ')[14]"
   ]
  },
  {
   "cell_type": "code",
   "execution_count": null,
   "metadata": {},
   "outputs": [],
   "source": [
    "cry_single = [0.598, 0.620, ]"
   ]
  },
  {
   "cell_type": "code",
   "execution_count": null,
   "metadata": {},
   "outputs": [],
   "source": [
    "pccs = np.corrcoef(x, y)"
   ]
  },
  {
   "cell_type": "markdown",
   "metadata": {},
   "source": [
    "## 2.4 可视化"
   ]
  },
  {
   "cell_type": "code",
   "execution_count": null,
   "metadata": {},
   "outputs": [],
   "source": [
    "seed_ligands = {\n",
    "    'pde5a': [\n",
    "        'CCCc1nn(c2c1nc([nH]c2=O)c1cc(ccc1OCC)S(=O)(=O)n1ccn(cc1)C)C',\n",
    "        'CCCc1nn(c2c1nc([nH]c2=O)c1cc(ccc1OCC)S(=O)(=O)N1CCN(CC1)Cc1ccc2c(c1)OCO2)C',\n",
    "    ],\n",
    "    'akt1': [\n",
    "        'Clc1c[nH]c2c1c(ncn2)N1CCc2c(C1)[nH]cn2',\n",
    "        '[NH3+]C(Cc1c[nH]c2c1cccc2)COc1cncc(c1)c1ccc2c(c1)C(C(=O)N2)C(Cc1ccccn1)(C)C'\n",
    "    ],\n",
    "    'ada': [\n",
    "        'CC(C(n1cnc(c1)C(=O)N)CCc1cccc2c1cccc2)O',\n",
    "        'CC(C(n1cnc2c1ccnc2N)CCCCCC)O'\n",
    "    ],\n",
    "    'andr': [\n",
    "        'OC1CCC2(C(=C1)CCC1C2CCC2(C1CCC2O)C)C',\n",
    "        'N#Cc1ccc(cc1C(F)(F)F)N1C(=O)C2C(C1=O)C1(OC2(C)CN(C1)c1cccc(c1)C(=O)N)C'\n",
    "    ],\n",
    "    'def': [\n",
    "        'CCCCCC(C(=O)NC(C(=O)N1CCCC1CO)C(C)C)CC(=O)NO',\n",
    "        'O=CN(CC(C(=O)NC(C(C)(C)C)C(=O)c1ccc(cc1)F)CC1CCCC1)O'\n",
    "    ],\n",
    "    'gria2': [\n",
    "        'O=c1[nH]c2cc(c(cc2n(c1=O)CP(=O)(O)O)N1CCOCC1)C(F)(F)F',\n",
    "        '[O-][N+](=O)c1cc2[nH]c(=O)c(nc2cc1n1ccc(c1)C(=O)[O-])[O-]',\n",
    "    ]\n",
    "}"
   ]
  },
  {
   "cell_type": "code",
   "execution_count": null,
   "metadata": {},
   "outputs": [],
   "source": [
    "cry_smiles = Chem.MolToSmiles(Chem.MolFromSmiles(seed_ligands[target_list[target_flag]][0]))\n",
    "clu_smiles = Chem.MolToSmiles(Chem.MolFromSmiles(seed_ligands[target_list[target_flag]][1]))\n",
    "cry_inchi = Chem.MolToInchiKey(Chem.MolFromSmiles(cry_smiles))\n",
    "clu_inchi = Chem.MolToInchiKey(Chem.MolFromSmiles(clu_smiles))\n",
    "\n",
    "cry_mol = Chem.MolFromSmiles(cry_smiles)\n",
    "cry_mol = AllChem.AddHs(cry_mol, addCoords=True)\n",
    "clu_mol = Chem.MolFromSmiles(clu_smiles)\n",
    "clu_mol = AllChem.AddHs(clu_mol, addCoords=True)"
   ]
  },
  {
   "cell_type": "code",
   "execution_count": null,
   "metadata": {},
   "outputs": [],
   "source": [
    "for m in actives:\n",
    "    tmp_smiles = Chem.MolToSmiles(m)\n",
    "    tmp_inchi = Chem.MolToInchiKey(m)\n",
    "\n",
    "    if cry_smiles == tmp_smiles:\n",
    "        print('cry find')\n",
    "    \n",
    "    if clu_inchi == tmp_inchi:\n",
    "        print('clu find')   "
   ]
  },
  {
   "cell_type": "code",
   "execution_count": null,
   "metadata": {},
   "outputs": [],
   "source": [
    "fp_list = []\n",
    "for m in actives:\n",
    "    fp_list.append(np.asarray(AllChem.GetMorganFingerprintAsBitVect(m,2,useFeatures=True)))\n",
    "fp_list.append(np.asarray(AllChem.GetMorganFingerprintAsBitVect(ligand,2,useFeatures=True)))\n",
    "fp_list.append(np.asarray(AllChem.GetMorganFingerprintAsBitVect(cry_mol,2,useFeatures=True)))\n",
    "fp_list.append(np.asarray(AllChem.GetMorganFingerprintAsBitVect(clu_mol,2,useFeatures=True)))\n",
    "\n",
    "tsne = TSNE(n_components=2, random_state=2022)\n",
    "z = tsne.fit_transform(fp_list)\n",
    "\n"
   ]
  },
  {
   "cell_type": "code",
   "execution_count": null,
   "metadata": {},
   "outputs": [],
   "source": [
    "plt.figure(figsize=(5, 5), dpi=200)\n",
    "plt.scatter(z[:-2, 0], z[:-2, 1])\n",
    "plt.scatter(z[-3][0], z[-3][1])\n",
    "# plt.scatter(z[-2][0], z[-2][1], color='beige')\n",
    "# plt.scatter(z[67][0], z[67][1], color='beige')\n",
    "# plt.scatter(z[-1][0], z[-1][1], color='springgreen')\n",
    "# plt.scatter(z[285][0], z[285][1], color='springgreen')\n",
    "# plt.scatter(z[215][0], z[215][1], color='lightcyan')\n",
    "plt.scatter(z[291][0], z[291][1], color='lightcyan')\n",
    "# plt.scatter(z[259][0], z[259][1], color='lightskyblue')\n",
    "# plt.scatter(z[119][0], z[119][1], color='lightskyblue')\n",
    "# plt.scatter(z[26][0], z[26][1], color='lightcoral')\n",
    "# plt.scatter(z[46][0], z[46][1], color='lightcoral')\n",
    "# seed = random.sample(list(range(len(actives))), 1)\n",
    "# ic(seed)\n",
    "# plt.scatter(z[seed[0]][0], z[seed[0]][1], color='beige')"
   ]
  },
  {
   "cell_type": "code",
   "execution_count": null,
   "metadata": {},
   "outputs": [],
   "source": [
    "from rdkit.DataStructs import TanimotoSimilarity, TverskySimilarity\n",
    "fp1 = AllChem.GetMorganFingerprintAsBitVect(actives[-97],2,useFeatures=True)\n",
    "fp2 = AllChem.GetMorganFingerprintAsBitVect(ligand,2,useFeatures=True)\n",
    "TanimotoSimilarity(fp1, fp2)"
   ]
  },
  {
   "cell_type": "code",
   "execution_count": null,
   "metadata": {},
   "outputs": [],
   "source": []
  },
  {
   "cell_type": "code",
   "execution_count": null,
   "metadata": {},
   "outputs": [],
   "source": [
    "# 285\n",
    "# -1\n",
    "\n",
    "# 67\n",
    "# -2\n",
    "\n",
    "# 215\n",
    "# 291\n",
    "\n",
    "# 259\n",
    "# 119\n",
    "\n",
    "# 26\n",
    "# 46"
   ]
  },
  {
   "cell_type": "code",
   "execution_count": null,
   "metadata": {},
   "outputs": [],
   "source": [
    "len(actives)"
   ]
  },
  {
   "cell_type": "code",
   "execution_count": null,
   "metadata": {},
   "outputs": [],
   "source": [
    "actives[26].RemoveAllConformers()\n",
    "actives[26]"
   ]
  },
  {
   "cell_type": "code",
   "execution_count": null,
   "metadata": {},
   "outputs": [],
   "source": [
    "actives[-12].RemoveAllConformers()\n",
    "actives[-12]"
   ]
  },
  {
   "cell_type": "code",
   "execution_count": null,
   "metadata": {},
   "outputs": [],
   "source": [
    "actives[-15].RemoveAllConformers()\n",
    "actives[-15]"
   ]
  },
  {
   "cell_type": "code",
   "execution_count": null,
   "metadata": {},
   "outputs": [],
   "source": [
    "actives[-97].RemoveAllConformers()\n",
    "actives[-97]"
   ]
  },
  {
   "cell_type": "code",
   "execution_count": null,
   "metadata": {},
   "outputs": [],
   "source": [
    "actives[-99].RemoveAllConformers()\n",
    "actives[-99]"
   ]
  },
  {
   "cell_type": "code",
   "execution_count": null,
   "metadata": {},
   "outputs": [],
   "source": [
    "actives[-5].RemoveAllConformers()\n",
    "actives[-5]"
   ]
  },
  {
   "cell_type": "code",
   "execution_count": null,
   "metadata": {},
   "outputs": [],
   "source": [
    "clu_mol"
   ]
  },
  {
   "cell_type": "code",
   "execution_count": null,
   "metadata": {},
   "outputs": [],
   "source": [
    "cry_mol"
   ]
  },
  {
   "cell_type": "code",
   "execution_count": null,
   "metadata": {},
   "outputs": [],
   "source": [
    "ligand.RemoveAllConformers()\n",
    "ligand"
   ]
  },
  {
   "cell_type": "code",
   "execution_count": null,
   "metadata": {},
   "outputs": [],
   "source": [
    "actives[-8].RemoveAllConformers()\n",
    "actives[-8]"
   ]
  },
  {
   "cell_type": "code",
   "execution_count": null,
   "metadata": {},
   "outputs": [],
   "source": [
    "fp_list = []\n",
    "for m in actives:\n",
    "    fp_list.append(np.asarray(AllChem.GetMorganFingerprintAsBitVect(m,2)))\n",
    "fp_list.append(np.asarray(AllChem.GetMorganFingerprintAsBitVect(ligand,2)))\n",
    "fp_list.append(np.asarray(AllChem.GetMorganFingerprintAsBitVect(cry_mol,2)))\n",
    "fp_list.append(np.asarray(AllChem.GetMorganFingerprintAsBitVect(clu_mol,2)))\n",
    "\n",
    "tsne = TSNE(n_components=2, random_state=2022)\n",
    "z = tsne.fit_transform(fp_list)\n",
    "\n",
    "plt.figure(figsize=(5, 5), dpi=200)\n",
    "plt.scatter(z[:-2, 0], z[:-2, 1])\n",
    "plt.scatter(z[-3][0], z[-3][1])\n",
    "plt.scatter(z[-2][0], z[-2][1])\n",
    "plt.scatter(z[-1][0], z[-1][1])"
   ]
  },
  {
   "cell_type": "code",
   "execution_count": null,
   "metadata": {},
   "outputs": [],
   "source": [
    "fp_list = []\n",
    "for m in actives:\n",
    "    fp_list.append(np.asarray(AllChem.GetMorganFingerprintAsBitVect(m,2,useFeatures=True)))\n",
    "fp_list.append(np.asarray(AllChem.GetMorganFingerprintAsBitVect(ligand,2,useFeatures=True)))\n",
    "fp_list.append(np.asarray(AllChem.GetMorganFingerprintAsBitVect(cry_mol,2,useFeatures=True)))\n",
    "fp_list.append(np.asarray(AllChem.GetMorganFingerprintAsBitVect(clu_mol,2,useFeatures=True)))\n",
    "\n",
    "tsne = PCA(n_components=2, random_state=2022)\n",
    "z = tsne.fit_transform(fp_list)\n",
    "\n",
    "plt.figure(figsize=(5, 5), dpi=200)\n",
    "plt.scatter(z[:-2, 0], z[:-2, 1])\n",
    "plt.scatter(z[-3][0], z[-3][1])\n",
    "plt.scatter(z[-2][0], z[-2][1])\n",
    "plt.scatter(z[-1][0], z[-1][1])"
   ]
  },
  {
   "cell_type": "code",
   "execution_count": null,
   "metadata": {},
   "outputs": [],
   "source": [
    "fp_list = []\n",
    "for m in actives:\n",
    "    fp_list.append(np.asarray(AllChem.GetMorganFingerprintAsBitVect(m,2)))\n",
    "fp_list.append(np.asarray(AllChem.GetMorganFingerprintAsBitVect(ligand,2)))\n",
    "fp_list.append(np.asarray(AllChem.GetMorganFingerprintAsBitVect(cry_mol,2)))\n",
    "fp_list.append(np.asarray(AllChem.GetMorganFingerprintAsBitVect(clu_mol,2)))\n",
    "\n",
    "tsne = PCA(n_components=2, random_state=2022)\n",
    "z = tsne.fit_transform(fp_list)\n",
    "\n",
    "plt.figure(figsize=(5, 5), dpi=200)\n",
    "plt.scatter(z[:-2, 0], z[:-2, 1])\n",
    "plt.scatter(z[-3][0], z[-3][1])\n",
    "plt.scatter(z[-2][0], z[-2][1])\n",
    "plt.scatter(z[-1][0], z[-1][1])"
   ]
  },
  {
   "cell_type": "code",
   "execution_count": null,
   "metadata": {},
   "outputs": [],
   "source": []
  },
  {
   "cell_type": "code",
   "execution_count": null,
   "metadata": {},
   "outputs": [],
   "source": [
    "from rdkit import Chem\n",
    "from rdkit.Chem import AllChem"
   ]
  },
  {
   "cell_type": "code",
<<<<<<< HEAD
   "execution_count": null,
   "metadata": {},
   "outputs": [],
=======
   "execution_count": 108,
   "metadata": {},
   "outputs": [
    {
     "data": {
      "image/png": "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",
      "text/plain": [
       "<rdkit.Chem.rdchem.Mol at 0x7f51092323a0>"
      ]
     },
     "execution_count": 108,
     "metadata": {},
     "output_type": "execute_result"
    }
   ],
   "source": []
  },
  {
   "cell_type": "code",
   "execution_count": 110,
   "metadata": {},
   "outputs": [
    {
     "data": {
      "image/png": "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",
      "text/plain": [
       "<rdkit.Chem.rdchem.Mol at 0x7f510bb977c0>"
      ]
     },
     "execution_count": 110,
     "metadata": {},
     "output_type": "execute_result"
    }
   ],
>>>>>>> test
   "source": [
    "mol = Chem.MolFromSmiles('c1ccccc(C(N)=O)1')\n",
    "mol\n",
    "mol = Chem.AddHs(mol)\n",
    "AllChem.EmbedMolecule(mol,randomSeed=0xf00d)\n",
    "AllChem.MMFFOptimizeMolecule(mol)\n",
    "mol"
   ]
  },
  {
   "cell_type": "code",
<<<<<<< HEAD
   "execution_count": null,
   "metadata": {},
   "outputs": [],
=======
   "execution_count": 131,
   "metadata": {},
   "outputs": [
    {
     "name": "stderr",
     "output_type": "stream",
     "text": [
      "ic| Chem.MolToMolBlock(mol): ('\n",
      "                             '\n",
      "                              '     RDKit          3D\n",
      "                             '\n",
      "                              '\n",
      "                             '\n",
      "                              ' 16 16  0  0  0  0  0  0  0  0999 V2000\n",
      "                             '\n",
      "                              '   -0.4615    0.6501   -1.1503 C   0  0  0  0  0  0  0  0  0  0  0  0\n",
      "                             '\n",
      "                              '   -1.8233    0.3534   -1.0712 C   0  0  0  0  0  0  0  0  0  0  0  0\n",
      "                             '\n",
      "                              '   -2.3236   -0.3320    0.0351 C   0  0  0  0  0  0  0  0  0  0  0  0\n",
      "                             '\n",
      "                              '   -1.4662   -0.7158    1.0663 C   0  0  0  0  0  0  0  0  0  0  0  0\n",
      "                             '\n",
      "                              '   -0.1023   -0.4217    0.9905 C   0  0  0  0  0  0  0  0  0  0  0  0\n",
      "                             '\n",
      "                              '    0.4076    0.2543   -0.1257 C   0  0  0  0  0  0  0  0  0  0  0  0\n",
      "                             '\n",
      "                              '    1.8503    0.5923   -0.2556 C   0  0  0  0  0  0  0  0  0  0  0  0\n",
      "                             '\n",
      "                              '    2.7419   -0.1587    0.4602 N   0  0  0  0  0  0  0  0  0  0  0  0\n",
      "                             '\n",
      "                              '    2.2404    1.4828   -1.0001 O   0  0  0  0  0  0  0  0  0  0  0  0\n",
      "                             '\n",
      "                              '   -0.0775    1.1900   -2.0139 H   0  0  0  0  0  0  0  0  0  0  0  0\n",
      "                             '\n",
      "                              '   -2.4924    0.6611   -1.8709 H   0  0  0  0  0  0  0  0  0  0  0  0\n",
      "                             '\n",
      "                              '   -3.3852   -0.5591    0.0977 H   0  0  0  0  0  0  0  0  0  0  0  0\n",
      "                             '\n",
      "                              '   -1.8630   -1.2362    1.9347 H   0  0  0  0  0  0  0  0  0  0  0  0\n",
      "                             '\n",
      "                              '    0.5400   -0.7022    1.8197 H   0  0  0  0  0  0  0  0  0  0  0  0\n",
      "                             '\n",
      "                              '    3.7182    0.0049    0.2484 H   0  0  0  0  0  0  0  0  0  0  0  0\n",
      "                             '\n",
      "                              '    2.4966   -1.0633    0.8352 H   0  0  0  0  0  0  0  0  0  0  0  0\n",
      "                             '\n",
      "                              '  1  2  2  0\n",
      "                             '\n",
      "                              '  2  3  1  0\n",
      "                             '\n",
      "                              '  3  4  2  0\n",
      "                             '\n",
      "                              '  4  5  1  0\n",
      "                             '\n",
      "                              '  5  6  2  0\n",
      "                             '\n",
      "                              '  6  7  1  0\n",
      "                             '\n",
      "                              '  7  8  1  0\n",
      "                             '\n",
      "                              '  7  9  2  0\n",
      "                             '\n",
      "                              '  6  1  1  0\n",
      "                             '\n",
      "                              '  1 10  1  0\n",
      "                             '\n",
      "                              '  2 11  1  0\n",
      "                             '\n",
      "                              '  3 12  1  0\n",
      "                             '\n",
      "                              '  4 13  1  0\n",
      "                             '\n",
      "                              '  5 14  1  0\n",
      "                             '\n",
      "                              '  8 15  1  0\n",
      "                             '\n",
      "                              '  8 16  1  0\n",
      "                             '\n",
      "                              'M  END\n",
      "                             ')\n",
      "ic| atom.GetAtomicNum(): 6\n",
      "ic| atom.GetIdx(): 0\n",
      "ic| atom.GetAtomicNum(): 6\n",
      "ic| atom.GetIdx(): 1\n",
      "ic| atom.GetAtomicNum(): 6\n",
      "ic| atom.GetIdx(): 2\n",
      "ic| atom.GetAtomicNum(): 6\n",
      "ic| atom.GetIdx(): 3\n",
      "ic| atom.GetAtomicNum(): 6\n",
      "ic| atom.GetIdx(): 4\n",
      "ic| atom.GetAtomicNum(): 6\n",
      "ic| atom.GetIdx(): 5\n",
      "ic| atom.GetAtomicNum(): 6\n",
      "ic| atom.GetIdx(): 6\n",
      "ic| atom.GetAtomicNum(): 7\n",
      "ic| atom.GetIdx(): 7\n",
      "ic| atom.GetAtomicNum(): 8\n",
      "ic| atom.GetIdx(): 8\n",
      "ic| atom.GetAtomicNum(): 1\n",
      "ic| atom.GetIdx(): 9\n",
      "ic| atom.GetAtomicNum(): 1\n",
      "ic| atom.GetIdx(): 10\n",
      "ic| atom.GetAtomicNum(): 1\n",
      "ic| atom.GetIdx(): 11\n",
      "ic| atom.GetAtomicNum(): 1\n",
      "ic| atom.GetIdx(): 12\n",
      "ic| atom.GetAtomicNum(): 1\n",
      "ic| atom.GetIdx(): 13\n",
      "ic| atom.GetAtomicNum(): 1\n",
      "ic| atom.GetIdx(): 14\n",
      "ic| atom.GetAtomicNum(): 1\n",
      "ic| atom.GetIdx(): 15\n",
      "ic| dir(mol.GetConformer(0)): ['ClearComputedProps',\n",
      "                               'ClearProp',\n",
      "                               'GetAtomPosition',\n",
      "                               'GetBoolProp',\n",
      "                               'GetDoubleProp',\n",
      "                               'GetId',\n",
      "                               'GetIntProp',\n",
      "                               'GetNumAtoms',\n",
      "                               'GetOwningMol',\n",
      "                               'GetPositions',\n",
      "                               'GetProp',\n",
      "                               'GetPropNames',\n",
      "                               'GetPropsAsDict',\n",
      "                               'GetUnsignedProp',\n",
      "                               'HasOwningMol',\n",
      "                               'HasProp',\n",
      "                               'Is3D',\n",
      "                               'Set3D',\n",
      "                               'SetAtomPosition',\n",
      "                               'SetBoolProp',\n",
      "                               'SetDoubleProp',\n",
      "                               'SetId',\n",
      "                               'SetIntProp',\n",
      "                               'SetProp',\n",
      "                               'SetUnsignedProp',\n",
      "                               '__class__',\n",
      "                               '__delattr__',\n",
      "                               '__dict__',\n",
      "                               '__dir__',\n",
      "                               '__doc__',\n",
      "                               '__eq__',\n",
      "                               '__format__',\n",
      "                               '__ge__',\n",
      "                               '__getattribute__',\n",
      "                               '__gt__',\n",
      "                               '__hash__',\n",
      "                               '__init__',\n",
      "                               '__init_subclass__',\n",
      "                               '__instance_size__',\n",
      "                               '__le__',\n",
      "                               '__lt__',\n",
      "                               '__module__',\n",
      "                               '__ne__',\n",
      "                               '__new__',\n",
      "                               '__reduce__',\n",
      "                               '__reduce_ex__',\n",
      "                               '__repr__',\n",
      "                               '__setattr__',\n",
      "                               '__sizeof__',\n",
      "                               '__str__',\n",
      "                               '__subclasshook__',\n",
      "                               '__weakref__']\n",
      "ic| mol.GetConformer(0).GetPositions(): array([[-0.46152231,  0.65014971, -1.15033729],\n",
      "                                               [-1.82329936,  0.35342368, -1.07119595],\n",
      "                                               [-2.32357363, -0.332016  ,  0.03509609],\n",
      "                                               [-1.46619697, -0.71581176,  1.0663077 ],\n",
      "                                               [-0.10225555, -0.42171305,  0.99046607],\n",
      "                                               [ 0.40758966,  0.25428661, -0.12568721],\n",
      "                                               [ 1.85030227,  0.59234344, -0.25556519],\n",
      "                                               [ 2.74194971, -0.15874982,  0.46020202],\n",
      "                                               [ 2.24035948,  1.48277042, -1.00006915],\n",
      "                                               [-0.07750551,  1.1900098 , -2.01390655],\n",
      "                                               [-2.49243031,  0.66107661, -1.87093891],\n",
      "                                               [-3.3851811 , -0.55905824,  0.09767292],\n",
      "                                               [-1.86299755, -1.23620969,  1.93469335],\n",
      "                                               [ 0.53997135, -0.70216283,  1.81966895],\n",
      "                                               [ 3.71823853,  0.00492602,  0.24840375],\n",
      "                                               [ 2.49655129, -1.0632649 ,  0.8351894 ]])\n"
     ]
    },
    {
     "data": {
      "text/plain": [
       "array([[-0.46152231,  0.65014971, -1.15033729],\n",
       "       [-1.82329936,  0.35342368, -1.07119595],\n",
       "       [-2.32357363, -0.332016  ,  0.03509609],\n",
       "       [-1.46619697, -0.71581176,  1.0663077 ],\n",
       "       [-0.10225555, -0.42171305,  0.99046607],\n",
       "       [ 0.40758966,  0.25428661, -0.12568721],\n",
       "       [ 1.85030227,  0.59234344, -0.25556519],\n",
       "       [ 2.74194971, -0.15874982,  0.46020202],\n",
       "       [ 2.24035948,  1.48277042, -1.00006915],\n",
       "       [-0.07750551,  1.1900098 , -2.01390655],\n",
       "       [-2.49243031,  0.66107661, -1.87093891],\n",
       "       [-3.3851811 , -0.55905824,  0.09767292],\n",
       "       [-1.86299755, -1.23620969,  1.93469335],\n",
       "       [ 0.53997135, -0.70216283,  1.81966895],\n",
       "       [ 3.71823853,  0.00492602,  0.24840375],\n",
       "       [ 2.49655129, -1.0632649 ,  0.8351894 ]])"
      ]
     },
     "execution_count": 131,
     "metadata": {},
     "output_type": "execute_result"
    }
   ],
   "source": [
    "ic(Chem.MolToMolBlock(mol))\n",
    "for atom in mol.GetAtoms():\n",
    "    ic(atom.GetAtomicNum())\n",
    "    ic(atom.GetIdx())\n",
    "ic(dir(mol.GetConformer(0)))\n",
    "ic(mol.GetConformer(0).GetPositions())"
   ]
  },
  {
   "cell_type": "code",
   "execution_count": 34,
   "metadata": {},
   "outputs": [
    {
     "name": "stderr",
     "output_type": "stream",
     "text": [
      "ic| dir(atm): ['ClearProp',\n",
      "               'DescribeQuery',\n",
      "               'GetAtomMapNum',\n",
      "               'GetAtomicNum',\n",
      "               'GetBonds',\n",
      "               'GetBoolProp',\n",
      "               'GetChiralTag',\n",
      "               'GetDegree',\n",
      "               'GetDoubleProp',\n",
      "               'GetExplicitBitVectProp',\n",
      "               'GetExplicitValence',\n",
      "               'GetFormalCharge',\n",
      "               'GetHybridization',\n",
      "               'GetIdx',\n",
      "               'GetImplicitValence',\n",
      "               'GetIntProp',\n",
      "               'GetIsAromatic',\n",
      "               'GetIsotope',\n",
      "               'GetMass',\n",
      "               'GetMonomerInfo',\n",
      "               'GetNeighbors',\n",
      "               'GetNoImplicit',\n",
      "               'GetNumExplicitHs',\n",
      "               'GetNumImplicitHs',\n",
      "               'GetNumRadicalElectrons',\n",
      "               'GetOwningMol',\n",
      "               'GetPDBResidueInfo',\n",
      "               'GetProp',\n",
      "               'GetPropNames',\n",
      "               'GetPropsAsDict',\n",
      "               'GetQueryType',\n",
      "               'GetSmarts',\n",
      "               'GetSymbol',\n",
      "               'GetTotalDegree',\n",
      "               'GetTotalNumHs',\n",
      "               'GetTotalValence',\n",
      "               'GetUnsignedProp',\n",
      "               'HasOwningMol',\n",
      "               'HasProp',\n",
      "               'HasQuery',\n",
      "               'InvertChirality',\n",
      "               'IsInRing',\n",
      "               'IsInRingSize',\n",
      "               'Match',\n",
      "               'NeedsUpdatePropertyCache',\n",
      "               'SetAtomMapNum',\n",
      "               'SetAtomicNum',\n",
      "               'SetBoolProp',\n",
      "               'SetChiralTag',\n",
      "               'SetDoubleProp',\n",
      "               'SetExplicitBitVectProp',\n",
      "               'SetFormalCharge',\n",
      "               'SetHybridization',\n",
      "               'SetIntProp',\n",
      "               'SetIsAromatic',\n",
      "               'SetIsotope',\n",
      "               'SetMonomerInfo',\n",
      "               'SetNoImplicit',\n",
      "               'SetNumExplicitHs',\n",
      "               'SetNumRadicalElectrons',\n",
      "               'SetPDBResidueInfo',\n",
      "               'SetProp',\n",
      "               'SetUnsignedProp',\n",
      "               'UpdatePropertyCache',\n",
      "               '__class__',\n",
      "               '__copy__',\n",
      "               '__delattr__',\n",
      "               '__dict__',\n",
      "               '__dir__',\n",
      "               '__doc__',\n",
      "               '__eq__',\n",
      "               '__format__',\n",
      "               '__ge__',\n",
      "               '__getattribute__',\n",
      "               '__gt__',\n",
      "               '__hash__',\n",
      "               '__init__',\n",
      "               '__init_subclass__',\n",
      "               '__instance_size__',\n",
      "               '__le__',\n",
      "               '__lt__',\n",
      "               '__module__',\n",
      "               '__ne__',\n",
      "               '__new__',\n",
      "               '__reduce__',\n",
      "               '__reduce_ex__',\n",
      "               '__repr__',\n",
      "               '__setattr__',\n",
      "               '__sizeof__',\n",
      "               '__str__',\n",
      "               '__subclasshook__',\n",
      "               '__weakref__']\n",
      "ic| atm.GetAtomicNum(): 6\n"
     ]
    }
   ],
>>>>>>> test
   "source": [
    "for atm in mol.GetAtoms():\n",
    "    ic(dir(atm))\n",
    "    ic(atm.GetAtomicNum())\n",
    "    break"
   ]
  },
  {
   "cell_type": "code",
<<<<<<< HEAD
   "execution_count": null,
   "metadata": {},
   "outputs": [],
=======
   "execution_count": 35,
   "metadata": {},
   "outputs": [
    {
     "data": {
      "text/plain": [
       "array([0, 1, 0, 0, 0, 1, 0, 0, 0], dtype=int32)"
      ]
     },
     "execution_count": 35,
     "metadata": {},
     "output_type": "execute_result"
    }
   ],
>>>>>>> test
   "source": [
    "Chem.GetAdjacencyMatrix(mol)[0]"
   ]
  },
  {
   "cell_type": "code",
<<<<<<< HEAD
   "execution_count": null,
   "metadata": {},
   "outputs": [],
=======
   "execution_count": 36,
   "metadata": {},
   "outputs": [
    {
     "data": {
      "text/plain": [
       "[6, 6, 6, 6, 6, 6, 6, 7, 8]"
      ]
     },
     "execution_count": 36,
     "metadata": {},
     "output_type": "execute_result"
    }
   ],
>>>>>>> test
   "source": [
    "[a.GetAtomicNum() for a in mol.GetAtoms()]"
   ]
  },
  {
   "cell_type": "code",
<<<<<<< HEAD
   "execution_count": null,
   "metadata": {},
   "outputs": [],
=======
   "execution_count": 44,
   "metadata": {},
   "outputs": [
    {
     "data": {
      "text/plain": [
       "rdkit.Chem.rdchem.BondType.DOUBLE"
      ]
     },
     "execution_count": 44,
     "metadata": {},
     "output_type": "execute_result"
    }
   ],
>>>>>>> test
   "source": [
    "[a.GetBonds() for a in mol.GetAtoms()][6][].GetBondType()"
   ]
  },
  {
   "cell_type": "code",
<<<<<<< HEAD
   "execution_count": null,
   "metadata": {},
   "outputs": [],
=======
   "execution_count": 38,
   "metadata": {},
   "outputs": [
    {
     "data": {
      "image/png": "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",
      "text/plain": [
       "<rdkit.Chem.rdchem.Mol at 0x7face9732280>"
      ]
     },
     "execution_count": 38,
     "metadata": {},
     "output_type": "execute_result"
    }
   ],
>>>>>>> test
   "source": [
    "# Create an rdkit mol object\n",
    "# Iterate over the atoms\n",
    "for i, atom in enumerate(mol.GetAtoms()):\n",
    "    # For each atom, set the property \"molAtomMapNumber\" to a custom number, let's say, the index of the atom in the molecule\n",
    "    atom.SetProp(\"molAtomMapNumber\", str(atom.GetIdx()+1))\n",
    "\n",
    "mol"
   ]
  },
  {
   "cell_type": "code",
<<<<<<< HEAD
   "execution_count": null,
=======
   "execution_count": 15,
>>>>>>> test
   "metadata": {},
   "outputs": [],
   "source": [
    "tmp_list = []\n",
    "for root, dirs, files in os.walk(os.path.join(base_path, dude_dir), topdown=False):\n",
    "    tmp_dict = {'act_ism': None, 'dec_ism': None}\n",
    "    for name in files:\n",
    "        if   'actives_final.ism' in name:\n",
    "            tmp_dict['act_ism'] = os.path.join(root, name)\n",
    "        elif 'decoys_final.ism' in name:\n",
    "            tmp_dict['dec_ism'] = os.path.join(root, name)\n",
    "    tmp_list.append(tmp_dict)"
   ]
  },
  {
   "cell_type": "code",
<<<<<<< HEAD
   "execution_count": null,
=======
   "execution_count": 16,
>>>>>>> test
   "metadata": {},
   "outputs": [],
   "source": [
    "ism_path_df = pd.DataFrame(tmp_list).dropna()"
   ]
  },
  {
   "cell_type": "code",
<<<<<<< HEAD
   "execution_count": null,
   "metadata": {},
   "outputs": [],
=======
   "execution_count": 29,
   "metadata": {},
   "outputs": [
    {
     "name": "stdout",
     "output_type": "stream",
     "text": [
      "INFO: Pandarallel will run on 128 workers.\n",
      "INFO: Pandarallel will use Memory file system to transfer data between the main process and workers.\n"
     ]
    }
   ],
>>>>>>> test
   "source": [
    "pandarallel.initialize(progress_bar=True)"
   ]
  },
  {
   "cell_type": "code",
<<<<<<< HEAD
   "execution_count": null,
=======
   "execution_count": 71,
>>>>>>> test
   "metadata": {},
   "outputs": [],
   "source": [
    "def extract_info_from_smiles(series: pd.Series):\n",
    "    print(f\"🌟  {series.name+1}-{series['act_ism'].split('/')[-2]}  🌟\")\n",
    "    act = pd.read_csv(series['act_ism'], sep=' ',  header=None, names=['smiles', '-', 'chemblid'])\n",
    "    dec = pd.read_csv(series['dec_ism'], sep=' ',  header=None, names=['smiles', '-', 'chemblid'])\n",
    "\n",
    "    def get_charges(series: pd.Series):\n",
    "        mol = AllChem.MolFromSmiles(series['smiles'])\n",
    "        if not mol:\n",
    "            return []\n",
    "        return [a.GetAtomicNum() for a in mol.GetAtoms()]\n",
    "    \n",
    "    ic(act.head(5))\n",
    "    tqdm.pandas()\n",
    "    act['charges'] = act.progress_apply(get_charges, axis=1)\n",
    "    dec['charges'] = dec.progress_apply(get_charges, axis=1)\n",
    "\n",
    "    return [dict(Counter([cha for ele in act['charges'].tolist() for cha in ele if ele])), dict(Counter([cha for ele in dec['charges'].tolist() for cha in ele if ele]))]"
   ]
  },
  {
   "cell_type": "code",
<<<<<<< HEAD
   "execution_count": null,
   "metadata": {},
   "outputs": [],
   "source": [
    "extract_info_from_smiles(ism_path_df.iloc[0])"
   ]
  },
  {
   "cell_type": "code",
   "execution_count": null,
   "metadata": {},
   "outputs": [],
   "source": [
    "out = Parallel(n_jobs=n_jobs, verbose=1)(delayed(extract_info_from_smiles)(row) for _, row in ism_path_df.iterrows()) "
   ]
  },
  {
   "cell_type": "code",
   "execution_count": null,
   "metadata": {},
   "outputs": [],
   "source": [
    "out"
   ]
  },
  {
   "cell_type": "code",
   "execution_count": null,
   "metadata": {},
   "outputs": [],
   "source": [
    "def sum_dict(a,b):\n",
    "    temp = dict()\n",
    "    for key in a.keys()| b.keys():\n",
    "        temp[key] = sum([d.get(key, 0) for d in (a, b)])\n",
    "    return temp\n",
    " \n",
    "def test():\n",
    "    from functools import reduce\n",
    "    return print(reduce(sum_dict,[a,b,c]))\n",
    " \n",
    "a = {'a': 1, 'b': 2, 'c': 3} \n",
    "b = {'a':1,'b':3,'d':4}\n",
    "c = {'g':3,'f':5,'a':10}\n",
    "test()"
   ]
  },
  {
   "cell_type": "code",
   "execution_count": null,
   "metadata": {},
   "outputs": [],
   "source": [
    "__ATOM_LIST__ = \\\n",
    "    ['-', 'h',  'he',\n",
    "     'li', 'be', 'b',  'c',  'n',  'o',  'f',  'ne',\n",
    "     'na', 'mg', 'al', 'si', 'p',  's',  'cl', 'ar',\n",
    "     'k',  'ca', 'sc', 'ti', 'v ', 'cr', 'mn', 'fe', 'co', 'ni', 'cu',\n",
    "     'zn', 'ga', 'ge', 'as', 'se', 'br', 'kr',\n",
    "     'rb', 'sr', 'y',  'zr', 'nb', 'mo', 'tc', 'ru', 'rh', 'pd', 'ag',\n",
    "     'cd', 'in', 'sn', 'sb', 'te', 'i',  'xe',\n",
    "     'cs', 'ba', 'la', 'ce', 'pr', 'nd', 'pm', 'sm', 'eu', 'gd', 'tb', 'dy',\n",
    "     'ho', 'er', 'tm', 'yb', 'lu', 'hf', 'ta', 'w',  're', 'os', 'ir', 'pt',\n",
    "     'au', 'hg', 'tl', 'pb', 'bi', 'po', 'at', 'rn',\n",
    "     'fr', 'ra', 'ac', 'th', 'pa', 'u',  'np', 'pu']"
   ]
  },
  {
   "cell_type": "code",
   "execution_count": null,
   "metadata": {},
   "outputs": [],
   "source": [
    "act_out = reduce(sum_dict, [ele[0] for ele in out])\n",
    "dec_out = reduce(sum_dict, [ele[1] for ele in out])\n",
    "all_out = reduce(sum_dict, [act_out, dec_out])\n",
    "out_key = list(zip(reduce(sum_dict, [ele[0] for ele in out]+[ele[1] for ele in out]).keys(), [__ATOM_LIST__[key] for key in reduce(sum_dict, [ele[0] for ele in out]+[ele[1] for ele in out]).keys()]))\n",
    "\n",
    "print(act_out)\n",
    "print(dec_out)\n",
    "print(all_out)\n",
    "print(out_key)\n",
    "print(dict([(__ATOM_LIST__[ele[0]], ele[1]) for ele in sorted(act_out.items(), key=lambda x: x[0])]))\n",
    "print(dict([(__ATOM_LIST__[ele[0]], ele[1]) for ele in sorted(dec_out.items(), key=lambda x: x[0])]))\n",
    "print(dict([(__ATOM_LIST__[ele[0]], ele[1]) for ele in sorted(all_out.items(), key=lambda x: x[0])]))\n",
    "print(dict([(__ATOM_LIST__[ele[0]], ele[1]) for ele in sorted(out_key.items(), key=lambda x: x[0])]))\n",
    "\n"
   ]
  },
  {
   "cell_type": "code",
   "execution_count": null,
   "metadata": {},
   "outputs": [],
   "source": [
    "next(get_ism)"
   ]
  },
  {
   "cell_type": "code",
   "execution_count": null,
   "metadata": {},
   "outputs": [],
   "source": []
  },
  {
   "cell_type": "markdown",
   "metadata": {},
   "source": [
    "## 2.5 EGNN"
   ]
  },
  {
   "cell_type": "markdown",
   "metadata": {},
   "source": [
    "### 2.5.1 Preprocess data"
   ]
  },
  {
   "cell_type": "code",
   "execution_count": 7,
   "metadata": {},
   "outputs": [],
   "source": [
    "# 1. 获取文件路径\n",
    "tmp_list = []\n",
    "for root, dirs, files in os.walk(os.path.join(base_path, dude_dir), topdown=False):\n",
    "    tmp_dict = {'target': root.split('/')[-1], 'act_sdf': None, 'dec_sdf': None}\n",
    "    for name in files:\n",
    "        if   'actives_final.sdf' in name:\n",
    "            if 'gz' in name:\n",
    "                os.system(f\"gzip -d {os.path.join(root, name)}\")\n",
    "                tmp_dict['act_sdf'] = os.path.join(root, name[:-3])\n",
    "                continue\n",
    "            tmp_dict['act_sdf'] = os.path.join(root, name)\n",
    "        elif 'decoys_final.sdf' in name:\n",
    "            if 'gz' in name:\n",
    "                os.system(f\"gzip -d {os.path.join(root, name)}\")\n",
    "                tmp_dict['dec_sdf'] = os.path.join(root, name[:-3])\n",
    "                continue\n",
    "            tmp_dict['dec_sdf'] = os.path.join(root, name)\n",
    "    tmp_list.append(tmp_dict)"
   ]
  },
  {
   "cell_type": "code",
   "execution_count": 8,
   "metadata": {},
   "outputs": [
    {
     "data": {
      "text/html": [
       "<div>\n",
       "<style scoped>\n",
       "    .dataframe tbody tr th:only-of-type {\n",
       "        vertical-align: middle;\n",
       "    }\n",
       "\n",
       "    .dataframe tbody tr th {\n",
       "        vertical-align: top;\n",
       "    }\n",
       "\n",
       "    .dataframe thead th {\n",
       "        text-align: right;\n",
       "    }\n",
       "</style>\n",
       "<table border=\"1\" class=\"dataframe\">\n",
       "  <thead>\n",
       "    <tr style=\"text-align: right;\">\n",
       "      <th></th>\n",
       "      <th>target</th>\n",
       "      <th>act_sdf</th>\n",
       "      <th>dec_sdf</th>\n",
       "    </tr>\n",
       "  </thead>\n",
       "  <tbody>\n",
       "    <tr>\n",
       "      <th>0</th>\n",
       "      <td>pde5a</td>\n",
       "      <td>/users10/hqguo/subject/2-learn/2-1-egnn/molecu...</td>\n",
       "      <td>/users10/hqguo/subject/2-learn/2-1-egnn/molecu...</td>\n",
       "    </tr>\n",
       "    <tr>\n",
       "      <th>1</th>\n",
       "      <td>aa2ar</td>\n",
       "      <td>/users10/hqguo/subject/2-learn/2-1-egnn/molecu...</td>\n",
       "      <td>/users10/hqguo/subject/2-learn/2-1-egnn/molecu...</td>\n",
       "    </tr>\n",
       "  </tbody>\n",
       "</table>\n",
       "</div>"
      ],
      "text/plain": [
       "  target                                            act_sdf  \\\n",
       "0  pde5a  /users10/hqguo/subject/2-learn/2-1-egnn/molecu...   \n",
       "1  aa2ar  /users10/hqguo/subject/2-learn/2-1-egnn/molecu...   \n",
       "\n",
       "                                             dec_sdf  \n",
       "0  /users10/hqguo/subject/2-learn/2-1-egnn/molecu...  \n",
       "1  /users10/hqguo/subject/2-learn/2-1-egnn/molecu...  "
      ]
     },
     "execution_count": 8,
=======
   "execution_count": 72,
   "metadata": {},
   "outputs": [
    {
     "name": "stderr",
     "output_type": "stream",
     "text": [
      "ic| act.head(5):                                               smiles       -       chemblid\n",
      "                 0                  C#CCOc3nc(c1ccccc1)nc4sc2CCCc2c34  630004  CHEMBL1087078\n",
      "                 1  OC[C@H]3OC(n1cnc2c(NCCS(O)(=O)=O)ncnc12)[C@H](...  607385   CHEMBL610435\n",
      "                 2  CCNC(=O)[C@H]4OC(n2cnc3c(N)nc(C#Cc1ccc(CCC(O)=...  605505   CHEMBL605065\n",
      "                 3         Ic5cccc(n1c(=S)sc3c1ncn4nc(c2ccco2)nc34)c5  623098  CHEMBL1093479\n",
      "                 4                C=CCn1c(=S)sc3c1ncn4nc(c2ccco2)nc34  623027  CHEMBL1092271\n"
     ]
    },
    {
     "name": "stdout",
     "output_type": "stream",
     "text": [
      "🌟  1-aa2ar  🌟\n"
     ]
    },
    {
     "name": "stderr",
     "output_type": "stream",
     "text": [
      "100%|██████████| 482/482 [00:00<00:00, 2052.51it/s]\n",
      "100%|██████████| 31550/31550 [00:13<00:00, 2331.89it/s]\n"
     ]
    },
    {
     "data": {
      "text/plain": [
       "[{6: 9627, 8: 1151, 7: 2930, 16: 108, 53: 2, 17: 34, 9: 75, 35: 16},\n",
       " {6: 609048,\n",
       "  8: 118095,\n",
       "  7: 126634,\n",
       "  16: 16445,\n",
       "  17: 5797,\n",
       "  9: 6305,\n",
       "  35: 1549,\n",
       "  15: 129,\n",
       "  1: 94,\n",
       "  53: 62}]"
      ]
     },
     "execution_count": 72,
>>>>>>> test
     "metadata": {},
     "output_type": "execute_result"
    }
   ],
<<<<<<< HEAD
   "source": [
    "sdf_path_df = pd.DataFrame(tmp_list).dropna()\n",
    "sdf_path_df.sample(2)"
   ]
  },
  {
   "cell_type": "code",
   "execution_count": 27,
   "metadata": {},
   "outputs": [],
   "source": [
    "def de_duplicate(m_list):\n",
    "    name_l = []\n",
    "    inck_l = []\n",
    "    de_m_l = []\n",
    "\n",
    "    for m in tqdm(m_list):\n",
    "        name = m.GetProp('_Name')\n",
    "        inck = Chem.MolToInchiKey(m)\n",
    "        if name in name_l:\n",
    "            # ic('name duplicate')\n",
    "            pass\n",
    "        elif inck in inck_l:\n",
    "            # ic('icnk duplicate')\n",
    "            pass\n",
    "        else:\n",
    "            name_l.append(name)\n",
    "            inck_l.append(inck)\n",
    "            de_m_l.append(m)\n",
    "    \n",
    "    return de_m_l"
=======
   "source": [
    "extract_info_from_smiles(ism_path_df.iloc[0])"
   ]
  },
  {
   "cell_type": "code",
   "execution_count": null,
   "metadata": {},
   "outputs": [],
   "source": [
    "out = Parallel(n_jobs=n_jobs, verbose=1)(delayed(extract_info_from_smiles)(row) for _, row in ism_path_df.iterrows()) "
>>>>>>> test
   ]
  },
  {
   "cell_type": "code",
   "execution_count": 40,
   "metadata": {},
   "outputs": [],
   "source": [
    "map_dict = {\n",
    "    rdkit.Chem.rdchem.BondType.SINGLE   : 1,\n",
    "    rdkit.Chem.rdchem.BondType.DOUBLE   : 2,\n",
    "    rdkit.Chem.rdchem.BondType.TRIPLE   : 3,\n",
    "    rdkit.Chem.rdchem.BondType.AROMATIC : 4,\n",
    "}"
   ]
  },
  {
   "cell_type": "code",
   "execution_count": 46,
   "metadata": {},
   "outputs": [],
   "source": [
    "def extract_info_from_sdf(series: pd.Series):\n",
    "    print(f\"🌟  {series['target']}  🌟\")\n",
    "    act = de_duplicate([m for m in Chem.SDMolSupplier(series['act_sdf'], removeHs=False) if m])\n",
    "    dec = de_duplicate([m for m in Chem.SDMolSupplier(series['dec_sdf'], removeHs=False) if m])\n",
    "\n",
    "    def get_info(mol, name, label):\n",
    "        name        = name\n",
    "        smiles      = AllChem.MolToSmiles(mol)\n",
    "        charges     = json.dumps([a.GetAtomicNum() for a in mol.GetAtoms()])\n",
    "        positions   = json.dumps(mol.GetConformer(0).GetPositions().tolist())\n",
    "        mol_adj     = AllChem.GetAdjacencyMatrix(mol)\n",
    "        # GetBondType\n",
    "        edges = []\n",
    "        for in_i, in_a in enumerate(list(mol.GetAtoms())[:-1]):\n",
    "            in_a_bt = [ele.GetBondType() for ele in in_a.GetBonds()[sum(mol_adj[in_i][:in_i+1]):]]\n",
    "            edges.extend([(in_i, wr_i, map_dict[in_a_bt[at_i]]) for at_i,wr_i  in  enumerate([to_i for to_i,to_a in enumerate(mol_adj[in_i]) if (to_i>in_i)and(to_a==1)])])\n",
    "    \n",
    "        return {'name':name, 'smiles':smiles, 'label':label, 'charges':charges, 'positions':positions, 'edges':edges}\n",
    "    act_out = Parallel(n_jobs=n_jobs, verbose=1)(delayed(get_info)(mol, mol.GetProp('_Name'), 'act') for mol in act) \n",
    "    dec_out = Parallel(n_jobs=n_jobs, verbose=1)(delayed(get_info)(mol, mol.GetProp('_Name'), 'dec') for mol in dec)\n",
    "    \n",
    "    return pd.DataFrame(act_out + dec_out)"
   ]
  },
  {
   "cell_type": "code",
   "execution_count": null,
   "metadata": {},
   "outputs": [],
   "source": [
    "extract_info_from_sdf(sdf_path_df.iloc[0])"
   ]
  },
  {
   "cell_type": "code",
<<<<<<< HEAD
   "execution_count": 12,
   "metadata": {},
   "outputs": [],
   "source": [
    "mol = [m for m in Chem.SDMolSupplier('/users10/hqguo/subject/2-learn/2-1-egnn/molecule-3d-similarity/dude/all/ada/actives_final.sdf', removeHs=False) if m][0]"
   ]
  },
  {
   "cell_type": "code",
   "execution_count": null,
   "metadata": {},
   "outputs": [],
   "source": [
    "mol = AllChem.AddHs(mol)\n",
    "AllChem.EmbedMolecule(mol,randomSeed=0xf00d)\n",
    "mol = AllChem.RemoveHs(mol)\n",
    "mol"
=======
   "execution_count": 98,
   "metadata": {},
   "outputs": [
    {
     "name": "stdout",
     "output_type": "stream",
     "text": [
      "{1: 2, 35: 690, 6: 520593, 7: 82920, 8: 69506, 9: 9543, 14: 9, 15: 380, 16: 9276, 17: 4754, 53: 85}\n",
      "{1: 4886, 35: 161933, 6: 29057669, 7: 4690992, 8: 4368664, 9: 400662, 15: 5959, 16: 919549, 17: 357516, 53: 13019}\n",
      "{1: 4888, 35: 162623, 6: 29578262, 7: 4773912, 8: 4438170, 9: 410205, 14: 9, 15: 6339, 16: 928825, 17: 362270, 53: 13104}\n",
      "{'h': 2, 'c': 520593, 'n': 82920, 'o': 69506, 'f': 9543, 'si': 9, 'p': 380, 's': 9276, 'cl': 4754, 'br': 690, 'i': 85}\n",
      "{'h': 4886, 'c': 29057669, 'n': 4690992, 'o': 4368664, 'f': 400662, 'p': 5959, 's': 919549, 'cl': 357516, 'br': 161933, 'i': 13019}\n",
      "{'h': 4888, 'c': 29578262, 'n': 4773912, 'o': 4438170, 'f': 410205, 'si': 9, 'p': 6339, 's': 928825, 'cl': 362270, 'br': 162623, 'i': 13104}\n",
      "{1: 'h', 6: 'c', 7: 'n', 8: 'o', 9: 'f', 14: 'si', 15: 'p', 16: 's', 17: 'cl', 35: 'br', 53: 'i'}\n"
     ]
    }
   ],
   "source": [
    "act_out = reduce(sum_dict, [ele[0] for ele in out])\n",
    "dec_out = reduce(sum_dict, [ele[1] for ele in out])\n",
    "all_out = reduce(sum_dict, [act_out, dec_out])\n",
    "out_key = list(zip(reduce(sum_dict, [ele[0] for ele in out]+[ele[1] for ele in out]).keys(), [__ATOM_LIST__[key] for key in reduce(sum_dict, [ele[0] for ele in out]+[ele[1] for ele in out]).keys()]))\n",
    "\n",
    "print(act_out)\n",
    "print(dec_out)\n",
    "print(all_out)\n",
    "\n",
    "print(dict([(__ATOM_LIST__[ele[0]], ele[1]) for ele in sorted(act_out.items(), key=lambda x: x[0])]))\n",
    "print(dict([(__ATOM_LIST__[ele[0]], ele[1]) for ele in sorted(dec_out.items(), key=lambda x: x[0])]))\n",
    "print(dict([(__ATOM_LIST__[ele[0]], ele[1]) for ele in sorted(all_out.items(), key=lambda x: x[0])]))\n",
    "\n",
    "print(dict(sorted(out_key, key=lambda x: x[0])))\n"
>>>>>>> test
   ]
  },
  {
   "cell_type": "code",
<<<<<<< HEAD
   "execution_count": 43,
   "metadata": {},
   "outputs": [
    {
     "data": {
      "text/plain": [
       "[[1.3556, -5.6358, 1.849],\n",
       " [1.9355, -5.2107, 0.4985],\n",
       " [3.3832, -4.7528, 0.6865],\n",
       " [3.9545, -4.3341, -0.6438],\n",
       " [4.6673, -5.2408, -1.4061],\n",
       " [5.1912, -4.8569, -2.6261],\n",
       " [5.002, -3.5662, -3.0843],\n",
       " [4.2886, -2.6601, -2.3226],\n",
       " [3.7609, -3.0454, -1.1042],\n",
       " [2.9785, -2.0589, -0.276],\n",
       " [3.9, -1.4259, 0.7685],\n",
       " [4.3682, -2.2103, 1.363],\n",
       " [3.0821, -0.5121, 1.6833],\n",
       " [2.5608, 0.2323, 1.0813],\n",
       " [4.017, 0.1925, 2.6684],\n",
       " [2.1283, -1.2925, 2.4067],\n",
       " [4.9362, -0.6404, 0.0936],\n",
       " [4.7314, 0.4263, -0.7301],\n",
       " [5.8726, 0.8856, -1.1549],\n",
       " [6.8794, 0.1449, -0.6324],\n",
       " [6.2909, -0.8397, 0.1793],\n",
       " [7.0739, -1.7024, 0.8186],\n",
       " [8.3832, -1.6371, 0.6979],\n",
       " [8.9815, -0.7282, -0.0501],\n",
       " [8.2806, 0.1708, -0.7335],\n",
       " [8.9168, 1.1202, -1.514],\n",
       " [1.3831, -4.7917, 2.5381],\n",
       " [0.3242, -5.962, 1.715],\n",
       " [1.9463, -6.4564, 2.256],\n",
       " [1.908, -6.0548, -0.1906],\n",
       " [1.3448, -4.3901, 0.0915],\n",
       " [3.4107, -3.9087, 1.3756],\n",
       " [3.974, -5.5735, 1.0935],\n",
       " [4.8151, -6.249, -1.0482],\n",
       " [5.7487, -5.5649, -3.2213],\n",
       " [5.412, -3.266, -4.0373],\n",
       " [4.1411, -1.6518, -2.6804],\n",
       " [2.5745, -1.2807, -0.9235],\n",
       " [2.1601, -2.5746, 0.2263],\n",
       " [4.7445, 0.7878, 2.1165],\n",
       " [3.4343, 0.8435, 3.3201],\n",
       " [4.5383, -0.5518, 3.2703],\n",
       " [1.4452, -1.6926, 1.8515],\n",
       " [3.7647, 0.8305, -0.9919],\n",
       " [8.9906, -2.3535, 1.231],\n",
       " [8.3947, 1.7781, -1.9993],\n",
       " [9.8848, 1.1277, -1.5758]]"
      ]
     },
     "execution_count": 43,
     "metadata": {},
     "output_type": "execute_result"
    }
   ],
   "source": [
    "mol.GetProp('_Name')\n",
    "mol.GetConformer(0).GetPositions().tolist()"
   ]
  },
  {
   "cell_type": "code",
   "execution_count": null,
   "metadata": {},
   "outputs": [],
   "source": [
    "mol_adj = AllChem.GetAdjacencyMatrix(mol)"
   ]
  },
  {
   "cell_type": "code",
   "execution_count": null,
   "metadata": {},
   "outputs": [],
   "source": [
    "mol_adj[0][2:]"
   ]
  },
  {
   "cell_type": "code",
   "execution_count": null,
   "metadata": {},
   "outputs": [],
   "source": [
    "mol_adj[0][:1]"
   ]
  },
  {
   "cell_type": "code",
   "execution_count": null,
   "metadata": {},
   "outputs": [],
   "source": [
    "mol_adj[0]"
   ]
  },
  {
   "cell_type": "code",
   "execution_count": null,
   "metadata": {},
   "outputs": [],
   "source": [
    "[i for i,v in enumerate(mol_adj[0]) if (i > 1) and (v == 1)]"
   ]
  },
  {
   "cell_type": "code",
   "execution_count": null,
   "metadata": {},
   "outputs": [],
   "source": [
    "{1:2, 3:4}"
   ]
  },
  {
   "cell_type": "code",
   "execution_count": null,
   "metadata": {},
   "outputs": [],
   "source": [
    "map_dict = {\n",
    "    rdkit.Chem.rdchem.BondType.SINGLE: 1,\n",
    "    rdkit.Chem.rdchem.BondType.AROMATIC: 2,\n",
    "    rdkit.Chem.rdchem.BondType.DOUBLE: 3,\n",
    "}"
   ]
  },
  {
   "cell_type": "code",
   "execution_count": null,
   "metadata": {},
   "outputs": [],
   "source": [
    "# GetBondType\n",
    "bond_list = []\n",
    "for in_i, in_a in enumerate(list(mol.GetAtoms())[:-1]):\n",
    "    in_a_bt = [ele.GetBondType() for ele in in_a.GetBonds()[sum(mol_adj[in_i][:in_i+1]):]]\n",
    "    bond_list.extend([(in_i, wr_i, map_dict[in_a_bt[at_i]]) for at_i,wr_i  in  enumerate([to_i for to_i,to_a in enumerate(mol_adj[in_i]) if (to_i>in_i)and(to_a==1)])])"
   ]
  },
  {
   "cell_type": "code",
   "execution_count": null,
   "metadata": {},
   "outputs": [],
   "source": [
    "mol_adj"
   ]
  },
  {
   "cell_type": "code",
   "execution_count": null,
   "metadata": {},
   "outputs": [],
   "source": [
    "bond_list"
   ]
  },
  {
   "cell_type": "code",
   "execution_count": null,
   "metadata": {},
   "outputs": [],
   "source": [
    "print(Chem.MolToMolBlock(mol))"
=======
   "execution_count": 102,
   "metadata": {},
   "outputs": [
    {
     "name": "stdout",
     "output_type": "stream",
     "text": [
      "\"c\": 29578262\n",
      "\"n\": 4773912\n",
      "\"o\": 4438170\n",
      "\"s\": 928825\n",
      "\"f\": 410205\n",
      "\"cl\": 362270\n",
      "\"br\": 162623\n",
      "\"i\": 13104\n",
      "\"p\": 6339\n",
      "\"h\": 4888\n",
      "\"si\": 9\n"
     ]
    }
   ],
   "source": [
    "for key, val in dict([(__ATOM_LIST__[ele[0]], ele[1]) for ele in sorted(all_out.items(), key=lambda x: -x[1])]).items():\n",
    "    print(f'\"{key}\": {val}')"
>>>>>>> test
   ]
  },
  {
   "cell_type": "code",
   "execution_count": null,
   "metadata": {},
   "outputs": [],
   "source": []
  },
  {
   "cell_type": "code",
   "execution_count": null,
   "metadata": {},
   "outputs": [],
   "source": []
  }
 ],
 "metadata": {
  "kernelspec": {
<<<<<<< HEAD
   "display_name": "Python 3.7.11 ('molecular')",
=======
   "display_name": "Python 3 (ipykernel)",
>>>>>>> test
   "language": "python",
   "name": "python3"
  },
  "language_info": {
   "codemirror_mode": {
    "name": "ipython",
    "version": 3
   },
   "file_extension": ".py",
   "mimetype": "text/x-python",
   "name": "python",
   "nbconvert_exporter": "python",
   "pygments_lexer": "ipython3",
<<<<<<< HEAD
   "version": "3.7.11"
=======
   "version": "3.8.10"
>>>>>>> test
  },
  "vscode": {
   "interpreter": {
    "hash": "341c10d1c3fe8af5c1df4eaaaf241793542f6b41165cc3aaeb705f9f48b9192a"
   }
  }
 },
 "nbformat": 4,
 "nbformat_minor": 4
}
